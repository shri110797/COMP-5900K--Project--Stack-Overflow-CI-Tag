{
 "cells": [
  {
   "cell_type": "code",
   "execution_count": 2,
   "metadata": {},
   "outputs": [
    {
     "name": "stderr",
     "output_type": "stream",
     "text": [
      "C:\\Users\\11shr\\Anaconda3\\lib\\site-packages\\nltk\\decorators.py:68: DeprecationWarning: `formatargspec` is deprecated since Python 3.5. Use `signature` and the `Signature` object directly\n",
      "  regargs, varargs, varkwargs, defaults, formatvalue=lambda value: \"\"\n",
      "C:\\Users\\11shr\\Anaconda3\\lib\\site-packages\\nltk\\lm\\vocabulary.py:13: DeprecationWarning: Using or importing the ABCs from 'collections' instead of from 'collections.abc' is deprecated since Python 3.3,and in 3.9 it will stop working\n",
      "  from collections import Counter, Iterable\n",
      "C:\\Users\\11shr\\Anaconda3\\lib\\site-packages\\sklearn\\feature_extraction\\image.py:167: DeprecationWarning: `np.int` is a deprecated alias for the builtin `int`. To silence this warning, use `int` by itself. Doing this will not modify any behavior and is safe. When replacing `np.int`, you may wish to use e.g. `np.int64` or `np.int32` to specify the precision. If you wish to review your current use, check the release note link for additional information.\n",
      "Deprecated in NumPy 1.20; for more details and guidance: https://numpy.org/devdocs/release/1.20.0-notes.html#deprecations\n",
      "  dtype=np.int):\n",
      "C:\\Users\\11shr\\Anaconda3\\lib\\site-packages\\scipy\\io\\matlab\\mio5.py:98: DeprecationWarning: `np.bool` is a deprecated alias for the builtin `bool`. To silence this warning, use `bool` by itself. Doing this will not modify any behavior and is safe. If you specifically wanted the numpy scalar type, use `np.bool_` here.\n",
      "Deprecated in NumPy 1.20; for more details and guidance: https://numpy.org/devdocs/release/1.20.0-notes.html#deprecations\n",
      "  from .mio5_utils import VarReader5\n"
     ]
    }
   ],
   "source": [
    "# Using tutorial for Gensim Topic Modeling\n",
    "# https://www.machinelearningplus.com/nlp/topic-modeling-gensim-python/\n",
    "\n",
    "import re\n",
    "import numpy as np\n",
    "import pandas as pd\n",
    "\n",
    "# Gensim helps with LDA Topic Modeling\n",
    "import gensim\n",
    "import gensim.corpora as corpora\n",
    "from gensim.utils import simple_preprocess\n",
    "from gensim.models import CoherenceModel\n",
    "\n",
    "# Lemmatization\n",
    "import spacy\n",
    "\n",
    "# Plotting\n",
    "import pyLDAvis\n",
    "import pyLDAvis.gensim_models\n",
    "import matplotlib.pyplot as plt\n",
    "\n",
    "# Stop words\n",
    "from nltk.corpus import stopwords\n",
    "stop_words = stopwords.words('english')\n"
   ]
  },
  {
   "cell_type": "code",
   "execution_count": 3,
   "metadata": {},
   "outputs": [],
   "source": [
    "# Data\n",
    "data = pd.read_csv('SO_CI_Tag_Final.csv')\n",
    "questions = data['Body'].tolist()"
   ]
  },
  {
   "cell_type": "code",
   "execution_count": 4,
   "metadata": {},
   "outputs": [],
   "source": [
    "# Remove HTML tags\n",
    "def cleanhtml(raw_html):\n",
    "  cleanr = re.compile('<.*?>|&([a-z0-9]+|#[0-9]{1,6}|#x[0-9a-f]{1,6});')\n",
    "  cleantext = re.sub(cleanr, '', raw_html)\n",
    "  return cleantext"
   ]
  },
  {
   "cell_type": "code",
   "execution_count": 5,
   "metadata": {},
   "outputs": [],
   "source": [
    "questions = [cleanhtml(q) for q in questions]\n",
    "questions = [q.encode('ascii', 'ignore') for q in questions]\n",
    "questions = [q.decode('ascii') for q in questions]\n"
   ]
  },
  {
   "cell_type": "code",
   "execution_count": 6,
   "metadata": {},
   "outputs": [],
   "source": [
    "# Word decomposition\n",
    "def words(list):\n",
    "    for sentence in list:\n",
    "        # deacc removes punctuations\n",
    "        yield(gensim.utils.simple_preprocess(str(sentence), deacc=True))"
   ]
  },
  {
   "cell_type": "code",
   "execution_count": 7,
   "metadata": {},
   "outputs": [],
   "source": [
    "data_words = list(words(questions))"
   ]
  },
  {
   "cell_type": "code",
   "execution_count": 8,
   "metadata": {},
   "outputs": [],
   "source": [
    "# Build the bigram and trigram models\n",
    "bigram = gensim.models.Phrases(data_words, min_count=5, threshold=100) # higher threshold fewer phrases.\n",
    "trigram = gensim.models.Phrases(bigram[data_words], threshold=100)  "
   ]
  },
  {
   "cell_type": "code",
   "execution_count": 9,
   "metadata": {},
   "outputs": [],
   "source": [
    "# Faster way to get a sentence clubbed as a trigram/bigram\n",
    "bigram_mod = gensim.models.phrases.Phraser(bigram)\n",
    "trigram_mod = gensim.models.phrases.Phraser(trigram)"
   ]
  },
  {
   "cell_type": "code",
   "execution_count": 10,
   "metadata": {},
   "outputs": [],
   "source": [
    "# Define functions for stopwords, bigrams, trigrams and lemmatization\n",
    "def remove_stopwords(texts):\n",
    "    return [[word for word in simple_preprocess(str(doc)) if word not in stop_words] for doc in texts]\n",
    "\n",
    "def make_bigrams(texts):\n",
    "    return [bigram_mod[doc] for doc in texts]\n",
    "\n",
    "def make_trigrams(texts):\n",
    "    return [trigram_mod[bigram_mod[doc]] for doc in texts]\n",
    "\n",
    "def lemmatization(texts, allowed_postags=['NOUN', 'ADJ', 'VERB', 'ADV']):\n",
    "    \"\"\"https://spacy.io/api/annotation\"\"\"\n",
    "    texts_out = []\n",
    "    for sent in texts:\n",
    "        doc = nlp(\" \".join(sent)) \n",
    "        texts_out.append([token.lemma_ for token in doc if token.pos_ in allowed_postags])\n",
    "    return texts_out\n",
    "\n",
    "# Remove Stop Words\n",
    "data_words_nostops = remove_stopwords(data_words)"
   ]
  },
  {
   "cell_type": "code",
   "execution_count": 11,
   "metadata": {},
   "outputs": [],
   "source": [
    "# Form Bigrams\n",
    "data_words_bigrams = make_bigrams(data_words_nostops)"
   ]
  },
  {
   "cell_type": "code",
   "execution_count": 25,
   "metadata": {},
   "outputs": [
    {
     "name": "stdout",
     "output_type": "stream",
     "text": [
      "[['new', 'test', 'cypress', 'gitlab', 'ci', 'idea', 'run', 'cypress', 'test', 'merge', 'know', 'change', 'url', 'testing', 'run', 'pipeline', 'gitlab', 'let_say', 'first', 'test', 'exibio', 'de', 'modal', 'clique', 'boto', 'cy_visit', 'http', 'cy', 'get', 'inner', 'header', 'pt', 'header', 'click', 'cy', 'get', 'modal', 'login', 'visible', 'local', 'environment', 'using', 'url', 'http', 'change', 'right', 'url', 'run', 'test', 'gitlab', 'ci', 'pipeline', 'help'], ['trying', 'make', 'ci', 'pipeline', 'run', 'phpunit', 'tests', 'via', 'github', 'actions', 'first', 'tests', 'work', 'fine', 'local', 'machine', 'mac_os', 'git', 'push', 'tests', 'pass', 'github', 'actions', 'server', 'ubuntu', 'got', 'modules', 'user', 'tests', 'feature', 'property', 'discounts', 'user_id', 'match', 'expected', 'value', 'failed', 'asserting', 'identical', 'see', 'actual', 'value', 'converted', 'string', 'idk', 'code', 'causes', 'error', 'code', 'assetion', 'actingas', 'user', 'get', 'route', 'profile', 'index', 'assertstatus', 'assertinertia', 'fn', 'page', 'page', 'component', 'user', 'profile', 'false', 'assertions', 'discounts', 'count', 'discounts', 'user', 'discounts', 'pump_series', 'count', 'discounts', 'fn', 'page', 'page', 'key', 'discountable_id', 'user_id', 'user', 'id', 'exception', 'thrown', 'name', 'value', 'assertions', 'something', 'special', 'extraordinary', 'said', 'works_fine', 'local', 'machine', 'github', 'actions', 'server', 'got', 'certain', 'number', 'similar', 'errors', 'failed', 'asserting', 'identical', 'failed', 'asserting', 'identical', 'mb', 'depends', 'platform', 'tests', 'running', 'idea', 'thanks'], ['automating', 'gitlab', 'ci', 'deployment', 'noticed', 'installer', 'ci', 'jobs', 'interfere', 'installations', 'device', 'yes', 'currently', 'sufficient', 'resources', 'run', 'gitlab', 'ci', 'another', 'device', 'resolve', 'would', 'like', 'switch', 'shell', 'executor', 'virtualbox', 'executor', 'aim', 'ensure', 'ci', 'job', 'ran', 'fresh', 'ubuntu', 'xx', 'image', 'instead', 'directly', 'working', 'device', 'start', 'gitlab', 'runner', 'run', 'following', 'function', 'along', 'lot', 'boiler', 'plate', 'code', 'automate', 'entire', 'process', 'run', 'ci', 'source', 'src', 'sh', 'define', 'default', 'values', 'gitlab_url', 'http', 'description', 'somerunner', 'executor', 'shell', 'get', 'gitlab', 'server', 'runner', 'registration_token', 'runner_token', 'cat', 'sudo', 'gitlab', 'runner', 'register', 'non_interactive', 'url', 'gitlab_url', 'description', 'description', 'registration_token', 'runner_token', 'executor', 'executor', 'work', 'convert', 'executor', 'virtualbox', 'executor', 'however', 'since', 'ubuntu', 'server', 'typically', 'works', 'command', 'line', 'interface', 'without', 'gui', 'would', 'like', 'ask', 'possible', 'run', 'gitlab', 'virtualbox', 'executor', 'ubuntu', 'server', 'without', 'installing', 'gui'], ['using', 'gitlab', 'ci', 'cd', 'system', 'need', 'setup', 'runner', 'two', 'runner', 'windows', 'powershell', 'macos', 'shell', 'want', 'either', 'run', 'build', 'job', 'macos', 'laptop', 'always', 'online', 'write', 'two', 'version', 'build', 'jobs', 'hope', 'execute', 'one', 'different', 'runner', 'use', 'runner', 'tags', 'job', 'execute', 'build', 'execute', 'twice', 'macos', 'offline', 'build', 'mac', 'stuck', 'build', 'win', 'stage', 'build', 'tags', 'windows', 'script', 'powershell', 'command', 'build', 'mac', 'stage', 'build', 'tags', 'macos', 'script', 'shell', 'command', 'think', 'need', 'skip', 'job', 'select', 'runner', 'trying', 'use', 'rules', 'skip', 'job', 'find', 'linkage', 'https', 'gitlab', 'com', 'gitlab', 'org', 'gitlab', 'issues', 'issues', 'said', 'use', 'except', 'rules', 'build', 'win', 'stage', 'build', 'script', 'powershell', 'command', 'rules', 'windows', 'build', 'mac', 'stage', 'build', 'script', 'shell', 'command', 'rules', 'darwin', 'linux', 'think', 'solution', 'suitable', 'better', 'way', 'thank'], ['trying', 'build', 'godot', 'mono', 'project', 'cloned', 'repo', 'works', 'machine', 'try', 'build', 'visual_studio', 'get', 'error', 'error', 'cs', 'type', 'namespace', 'name', 'godot', 'could', 'found', 'missing', 'using', 'directive', 'assembly_reference', 'replicate', 'creating', 'basic', 'empty', 'scene', 'project', 'godot', 'opening', 'new', 'solution', 'visual_studio', 'trying', 'build'], ['work', 'collaboration', 'people', 'github', 'yml', 'ci', 'running', 'night', 'issue', 'shows', 'running', 'someone', 'elses', 'name', 'ci', 'file', 'something', 'like', 'top', 'file', 'schedule_cron', 'says', 'run', 'utc', 'problem', 'scheduled', 'ci', 'runs', 'runs', 'persons', 'name', 'person', 'left', 'organization', 'get', 'ci', 'run', 'name', 'instead'], ['created', 'yaml', 'file', 'test', 'pipleline', 'ci', 'cd', 'gitlab', 'first', 'job', 'builds', 'code', 'generates', 'objects', 'file', 'second', 'job', 'uses', 'objects', 'files', 'perform', 'tests', 'pipeline', 'switches', 'first', 'job', 'deletes', 'object', 'files', 'hence', 'following', 'test', 'using', 'object', 'files', 'fails', 'whole', 'list', 'object', 'files', 'removes', 'log', 'shows', 'removing', 'object', 'files', 'tried', 'using', 'dependency', 'variable', 'needs', 'work', 'added', 'object', 'file', 'folder', 'gitignore', 'success', 'still', 'removes', 'object', 'files', 'idea', 'could', 'resolved'], ['week', 'fighting', 'passing', 'variables', 'jobs', 'multi', 'project', 'pipeline', 'gitlab', 'ci', 'got', 'lots', 'weird', 'errors', 'mechanism', 'looks', 'like', 'basic', 'drives', 'crazy', 'obvious', 'thing', 'still', 'work', 'somebody', 'ran', 'similar', 'issues', 'would', 'appreciate', 'help', 'trying', 'make', 'two', 'projects', 'gitlab', 'trying', 'link', 'single', 'multi', 'project', 'pipeline', 'jobs', 'schema', 'looks', 'like', 'project', 'variables', 'build_path', 'build', 'script', 'build_path', 'path', 'important', 'point', 'value', 'sets', 'inside', 'job', 'static', 'bridge', 'variables', 'path', 'build_path', 'run_type', 'test', 'value', 'static', 'passes', 'correctly', 'issues', 'trigger', 'project', 'project', 'path', 'project', 'variables', 'path', 'run_type', 'test', 'script', 'echo', 'upstream', 'pipeline', 'dynamic', 'path', 'echo', 'upstream', 'pipeline', 'static', 'run_type', 'run', 'ci', 'run_type', 'variable', 'correctly', 'passed', 'empty', 'value', 'path', 'variable', 'even_though', 'build_path', 'correct', 'value', 'run', 'build', 'job', 'tried', 'many', 'approaches', 'set', 'build_path', 'value', 'script', 'pass', 'environment', 'value', 'like', 'ci_job_id', 'job', 'project', 'create', 'variable', 'project', 'etc', 'nothing', 'helped', 'dynamic', 'variable', 'always', 'empty', 'value', 'tried', 'save', 'dynamic', 'var', 'build_path', 'env', 'file', 'publish', 'artefact', 'bridge', 'job', 'could', 'read', 'like', 'build', 'script', 'code', 'echo', 'build_version', 'hello', 'vars', 'env', 'artifacts', 'reports', 'dotenv', 'vars', 'env', 'run', 'ci', 'job', 'always', 'fails', 'errors', 'like', 'uploading', 'artifacts', 'vars', 'env', 'found', 'matching', 'files', 'directories', 'warning', 'failed', 'load', 'system', 'certpool', 'crypto', 'system', 'root', 'pool', 'available', 'windows', 'warning', 'uploading', 'artifacts', 'dotenv', 'coordinator', 'failed', 'id_responsestatus', 'internal', 'server', 'error', 'status', 'token', 'token', 'warning', 'retrying', 'context', 'artifacts', 'uploader', 'error', 'invalid_argument', 'warning', 'uploading', 'artifacts', 'dotenv', 'coordinator', 'failed', 'id_responsestatus', 'internal', 'server', 'error', 'status', 'token', 'token', 'warning', 'retrying', 'context', 'artifacts', 'uploader', 'error', 'invalid_argument', 'warning', 'uploading', 'artifacts', 'dotenv', 'coordinator', 'failed', 'id_responsestatus', 'internal', 'server', 'error', 'status', 'token', 'token', 'fatal', 'invalid_argument', 'also', 'tried', 'uploading', 'env', 'file', 'without', 'name', 'saw', 'somewhere', 'like', 'echo', 'build_version', 'hello', 'env', 'luck', 'error', 'keep', 'researching', 'error', 'far', 'point', 'none', 'ways', 'passing', 'variables', 'downstream', 'pipeline', 'multi', 'project', 'pipeline', 'worked', 'anyone', 'met', 'issues', 'made', 'work', 'different', 'ways', 'please', 'help'], ['need', 'hide', 'values', 'jenkins', 'pipelines', 'created', 'libraries', 'classes', 'handle', 'common', 'operations', 'problem', 'classes', 'execute', 'commands', 'sh', 'shows', 'sensitive', 'information', 'problem', 'cannot', 'use', 'withcredentials', 'credentials', 'stored', 'jenkins', 'come', 'yaml', 'files', 'repository', 'decrypted', 'library', 'way', 'use', 'withcredentials', 'without', 'credentials', 'stored', 'jenkins', 'could', 'say', 'jenkins', 'hide', 'values', 'need', 'something', 'like', 'maskvariables', 'var', 'secret', 'value', 'var', 'secret', 'value', 'pipeline', 'sh', 'echo', 'show', 'var', 'var', 'show'], ['using', 'docker', 'docker', 'compose', 'want', 'enable', 'hot', 'reload', 'react', 'application', 'environment', 'windows', 'dockerfile', 'node', 'alpine', 'workdir', 'app', 'copy', 'package', 'json', 'copy', 'package', 'lock', 'json', 'run', 'npm', 'install', 'copy', 'cmd', 'npm', 'run', 'start', 'docker', 'compose', 'yml', 'version', 'services', 'frontend', 'build', 'context', 'dockerfile', 'dockerfile', 'dev', 'environment', 'true', 'volumes', 'app', 'node_modules', 'app', 'ports', 'even', 'tried', 'use', 'command', 'docker', 'run', 'app', 'node_modules', 'pwd', 'app', 'sha', 'ef', 'work', 'know', 'achieve', 'help']]\n"
     ]
    }
   ],
   "source": [
    "\n",
    "\n",
    "print(data_words_bigrams[:10])\n",
    "\n"
   ]
  },
  {
   "cell_type": "code",
   "execution_count": 13,
   "metadata": {},
   "outputs": [],
   "source": [
    "# Initialize spacy 'en' model, keeping only tagger component (for efficiency)\n",
    "# python3 -m spacy download en\n",
    "nlp = spacy.load('en_core_web_sm', disable=['parser', 'ner'])"
   ]
  },
  {
   "cell_type": "code",
   "execution_count": 14,
   "metadata": {},
   "outputs": [],
   "source": [
    "# Do lemmatization keeping only noun, adj, vb, adv\n",
    "data_lemmatized = lemmatization(data_words_bigrams, allowed_postags=['NOUN', 'ADJ', 'VERB', 'ADV'])"
   ]
  },
  {
   "cell_type": "code",
   "execution_count": 15,
   "metadata": {},
   "outputs": [],
   "source": [
    "# Create Dictionary\n",
    "id2word = corpora.Dictionary(data_lemmatized)"
   ]
  },
  {
   "cell_type": "code",
   "execution_count": 16,
   "metadata": {},
   "outputs": [],
   "source": [
    "\n",
    "# Create Corpus\n",
    "texts = data_lemmatized"
   ]
  },
  {
   "cell_type": "code",
   "execution_count": 17,
   "metadata": {},
   "outputs": [],
   "source": [
    "# Term Document Frequency\n",
    "corpus = [id2word.doc2bow(text) for text in texts]"
   ]
  },
  {
   "cell_type": "code",
   "execution_count": 26,
   "metadata": {},
   "outputs": [
    {
     "name": "stdout",
     "output_type": "stream",
     "text": [
      "[[(0, 1), (1, 1), (2, 1), (3, 2), (4, 1), (5, 1), (6, 2), (7, 2), (8, 1), (9, 1), (10, 1), (11, 1), (12, 1), (13, 1), (14, 1), (15, 1), (16, 2), (17, 1), (18, 1), (19, 1), (20, 3), (21, 4), (22, 1), (23, 2), (24, 1), (25, 1)]]\n"
     ]
    }
   ],
   "source": [
    "print(corpus[:1])"
   ]
  },
  {
   "cell_type": "code",
   "execution_count": 27,
   "metadata": {},
   "outputs": [
    {
     "data": {
      "text/plain": [
       "'change'"
      ]
     },
     "execution_count": 27,
     "metadata": {},
     "output_type": "execute_result"
    }
   ],
   "source": [
    "\n",
    "\n",
    "id2word[0]\n",
    "\n"
   ]
  },
  {
   "cell_type": "code",
   "execution_count": 28,
   "metadata": {},
   "outputs": [
    {
     "data": {
      "text/plain": [
       "[[('change', 1),\n",
       "  ('ci', 1),\n",
       "  ('click', 1),\n",
       "  ('cypress', 2),\n",
       "  ('environment', 1),\n",
       "  ('first', 1),\n",
       "  ('get', 2),\n",
       "  ('header', 2),\n",
       "  ('help', 1),\n",
       "  ('idea', 1),\n",
       "  ('inner', 1),\n",
       "  ('know', 1),\n",
       "  ('let_say', 1),\n",
       "  ('local', 1),\n",
       "  ('login', 1),\n",
       "  ('merge', 1),\n",
       "  ('modal', 2),\n",
       "  ('new', 1),\n",
       "  ('pipeline', 1),\n",
       "  ('right', 1),\n",
       "  ('run', 3),\n",
       "  ('test', 4),\n",
       "  ('testing', 1),\n",
       "  ('url', 2),\n",
       "  ('use', 1),\n",
       "  ('visible', 1)]]"
      ]
     },
     "execution_count": 28,
     "metadata": {},
     "output_type": "execute_result"
    }
   ],
   "source": [
    "[[(id2word[id], freq) for id, freq in cp] for cp in corpus[:1]]"
   ]
  },
  {
   "cell_type": "code",
   "execution_count": 18,
   "metadata": {},
   "outputs": [],
   "source": [
    "# Human readable format of corpus (term-frequency)\n",
    "# print([[(id2word[id], freq) for id, freq in cp] for cp in corpus[:1]])\n",
    "\n",
    "# Build LDA model\n",
    "lda_model = gensim.models.ldamodel.LdaModel(corpus=corpus,\n",
    "                                           id2word=id2word,\n",
    "                                           num_topics=10, \n",
    "                                           random_state=100,\n",
    "                                           update_every=1,\n",
    "                                           chunksize=100,\n",
    "                                           passes=10,\n",
    "                                           alpha='auto',\n",
    "                                           per_word_topics=True)"
   ]
  },
  {
   "cell_type": "code",
   "execution_count": 19,
   "metadata": {},
   "outputs": [
    {
     "name": "stdout",
     "output_type": "stream",
     "text": [
      "\n",
      "Perplexity:  -7.880520025398585\n"
     ]
    }
   ],
   "source": [
    "# Compute Perplexity\n",
    "print('\\nPerplexity: ', lda_model.log_perplexity(corpus))  # a measure of how good the model is. lower the better."
   ]
  },
  {
   "cell_type": "code",
   "execution_count": 20,
   "metadata": {},
   "outputs": [
    {
     "name": "stdout",
     "output_type": "stream",
     "text": [
      "\n",
      "Coherence Score:  0.42696242403931367\n"
     ]
    }
   ],
   "source": [
    "# Compute Coherence Score\n",
    "coherence_model_lda = CoherenceModel(model=lda_model, texts=data_lemmatized, dictionary=id2word, coherence='c_v')\n",
    "coherence_lda = coherence_model_lda.get_coherence()\n",
    "print('\\nCoherence Score: ', coherence_lda)"
   ]
  },
  {
   "cell_type": "code",
   "execution_count": 22,
   "metadata": {},
   "outputs": [
    {
     "name": "stderr",
     "output_type": "stream",
     "text": [
      "C:\\Users\\11shr\\Anaconda3\\lib\\site-packages\\pyLDAvis\\_prepare.py:247: FutureWarning: In a future version of pandas all arguments of DataFrame.drop except for the argument 'labels' will be keyword-only\n",
      "  by='saliency', ascending=False).head(R).drop('saliency', 1)\n",
      "C:\\Users\\11shr\\Anaconda3\\lib\\site-packages\\joblib\\numpy_pickle.py:104: DeprecationWarning: tostring() is deprecated. Use tobytes() instead.\n",
      "  pickler.file_handle.write(chunk.tostring('C'))\n",
      "C:\\Users\\11shr\\Anaconda3\\lib\\site-packages\\joblib\\numpy_pickle.py:104: DeprecationWarning: tostring() is deprecated. Use tobytes() instead.\n",
      "  pickler.file_handle.write(chunk.tostring('C'))\n"
     ]
    },
    {
     "data": {
      "text/html": [
       "\n",
       "<link rel=\"stylesheet\" type=\"text/css\" href=\"https://cdn.jsdelivr.net/gh/bmabey/pyLDAvis@3.3.1/pyLDAvis/js/ldavis.v1.0.0.css\">\n",
       "\n",
       "\n",
       "<div id=\"ldavis_el2126827863250606804214577642\"></div>\n",
       "<script type=\"text/javascript\">\n",
       "\n",
       "var ldavis_el2126827863250606804214577642_data = {\"mdsDat\": {\"x\": [-0.28706759360386597, -0.22515066092850458, -0.220111169438643, -0.11156138455522101, 0.11702238380039445, 0.15929694278132564, 0.05431116638354992, 0.1572510141158428, 0.17404849399216535, 0.18196080745295531], \"y\": [0.05854250680174942, -0.022725284769293922, 0.0807670915462758, -0.10672683288815958, -0.12985502515240796, 0.26709406236866634, -0.17478963910804513, 0.2532983488892748, -0.1164997757559338, -0.10910545193212595], \"topics\": [1, 2, 3, 4, 5, 6, 7, 8, 9, 10], \"cluster\": [1, 1, 1, 1, 1, 1, 1, 1, 1, 1], \"Freq\": [27.808494304788177, 17.691320182408628, 16.974923414235736, 11.428568219573597, 6.712592654056198, 6.439569197239857, 5.3490108380188595, 3.1523982754583644, 2.9070499959684093, 1.5360729182521742]}, \"tinfo\": {\"Term\": [\"build\", \"test\", \"file\", \"project\", \"run\", \"teamcity\", \"jenkin\", \"plugin\", \"database\", \"net\", \"job\", \"server\", \"version\", \"error\", \"use\", \"unit\", \"tool\", \"solution\", \"web\", \"name\", \"fail\", \"java\", \"task\", \"team\", \"script\", \"user\", \"start\", \"hudson\", \"machine\", \"want\", \"want\", \"way\", \"change\", \"continuous_integration\", \"know\", \"branch\", \"good\", \"commit\", \"well\", \"question\", \"automate\", \"different\", \"currently\", \"possible\", \"development\", \"trigger\", \"svn\", \"like\", \"deployment\", \"think\", \"production\", \"feature\", \"trunk\", \"right\", \"really\", \"point\", \"automatically\", \"multiple\", \"lot\", \"break\", \"developer\", \"need\", \"deploy\", \"ci\", \"environment\", \"make\", \"thing\", \"new\", \"also\", \"use\", \"code\", \"server\", \"process\", \"work\", \"thank\", \"repository\", \"create\", \"look\", \"set\", \"solution\", \"get\", \"time\", \"user\", \"machine\", \"control\", \"instal\", \"install\", \"php\", \"debug\", \"home\", \"location\", \"runner\", \"myproject\", \"date\", \"clone\", \"key\", \"bin\", \"unittest\", \"archive\", \"installation\", \"network\", \"virtual\", \"unable\", \"phpunit\", \"free\", \"exit\", \"domain\", \"computer\", \"cache\", \"boolean\", \"properly\", \"sign\", \"command\", \"error\", \"log\", \"window\", \"agent\", \"root\", \"exception\", \"access\", \"exec\", \"try\", \"remote\", \"line\", \"http\", \"get\", \"linux\", \"local\", \"com\", \"fail\", \"app\", \"server\", \"system\", \"host\", \"path\", \"find\", \"follow\", \"run\", \"directory\", \"work\", \"use\", \"set\", \"build\", \"msbuild\", \"step\", \"cruisecontrol\", \"artifact\", \"framework\", \"simple\", \"much\", \"coverage\", \"easy\", \"small\", \"depend\", \"rather\", \"kind\", \"consider\", \"pretty\", \"quite\", \"bamboo\", \"next\", \"produce\", \"large\", \"requirement\", \"basic\", \"javascript\", \"working\", \"other\", \"somewhere\", \"launch\", \"simply\", \"foo\", \"project\", \"integrate\", \"tool\", \"provide\", \"source\", \"release\", \"configuration\", \"application\", \"version\", \"do\", \"target\", \"come\", \"edit\", \"include\", \"dependency\", \"find\", \"support\", \"use\", \"generate\", \"checkout\", \"output\", \"set\", \"check\", \"setup\", \"follow\", \"code\", \"get\", \"test\", \"job\", \"unit\", \"bit\", \"parameter\", \"bug\", \"stage\", \"qa\", \"suite\", \"display\", \"wait\", \"language\", \"scenario\", \"involve\", \"best_practice\", \"hour\", \"automatic\", \"queue\", \"continue\", \"notification\", \"useful\", \"desktop\", \"ready\", \"combination\", \"address\", \"int\", \"click\", \"dashboard\", \"evaluate\", \"choice\", \"pass\", \"result\", \"report\", \"second\", \"run\", \"finish\", \"integration\", \"script\", \"junit\", \"start\", \"execute\", \"testing\", \"great\", \"fail\", \"browser\", \"failure\", \"call\", \"task\", \"status\", \"write\", \"case\", \"dev\", \"time\", \"team\", \"number\", \"software\", \"nunit\", \"value\", \"product\", \"revision\", \"view\", \"string\", \"component\", \"d\", \"function\", \"group\", \"ide\", \"management\", \"template\", \"decide\", \"text\", \"level\", \"dir\", \"play\", \"works_fine\", \"mostly\", \"hard\", \"static\", \"monitor\", \"cycle\", \"shop\", \"week\", \"quality\", \"variable\", \"false\", \"building\", \"datum\", \"page\", \"property\", \"name\", \"type\", \"module\", \"class\", \"true\", \"load\", \"resource\", \"post\", \"ant\", \"site\", \"email\", \"slave\", \"jenkin\", \"nice\", \"binary\", \"tomcat\", \"war\", \"little\", \"profile\", \"practice\", \"document\", \"hand\", \"parent\", \"rake\", \"bat\", \"unknown_source\", \"gem\", \"import\", \"operation\", \"amount\", \"child\", \"distribute\", \"offer\", \"functional\", \"ruby\", \"phe\", \"iphone\", \"cargo\", \"information\", \"file\", \"xml\", \"easily\", \"place\", \"folder\", \"config\", \"compile\", \"detect\", \"library\", \"delete\", \"copy\", \"send\", \"directory\", \"program\", \"line\", \"plugin\", \"java\", \"hudson\", \"info\", \"org\", \"jar\", \"apache\", \"website\", \"company\", \"maven\", \"eclipse\", \"back\", \"artifactid\", \"big\", \"sonar\", \"article\", \"model\", \"findbug\", \"snapshot\", \"label\", \"pom\", \"real\", \"thread\", \"mode\", \"publisher\", \"sort\", \"security\", \"util\", \"checkstyle\", \"mvn\", \"main\", \"version\", \"goal\", \"internal\", \"method\", \"com\", \"dependency\", \"execute\", \"configuration\", \"repository\", \"net\", \"nant\", \"assembly\", \"core\", \"dll\", \"exe\", \"ccnet\", \"sln\", \"asp_net\", \"csproj\", \"visual_studio\", \"iis\", \"mst\", \"mbunit\", \"itemgroup\", \"evidence\", \"nuget\", \"compilation\", \"powershell\", \"azure\", \"webapp\", \"patch\", \"fxcop\", \"silverlight\", \"xunit\", \"obfuscate\", \"sourcecontrol\", \"msdeploy\", \"assemblyname\", \"thoughtworks_cruisecontrol\", \"reference\", \"task\", \"web\", \"program\", \"solution\", \"publish\", \"package\", \"file\", \"folder\", \"target\", \"system\", \"compile\", \"copy\", \"service\", \"exist\", \"database\", \"sql\", \"suggest\", \"builder\", \"regard\", \"rail\", \"hear\", \"schema\", \"migration\", \"image\", \"history\", \"feel\", \"container\", \"duplicate\", \"table\", \"promote\", \"authentication\", \"thinking\", \"therefore\", \"docker\", \"transfer\", \"arg\", \"button\", \"initial\", \"low\", \"serve\", \"perfectly\", \"backup\", \"mapping\", \"pro\", \"query\", \"teamcity\", \"selenium\", \"exclude\", \"android\", \"codebase\", \"ivy\", \"soon\", \"drive\", \"workstation\", \"gradle\", \"session\", \"launcher\", \"parser\", \"scan\", \"mycompany\", \"subdirectory\", \"updating_source\", \"jetbrain\", \"country\", \"scope\", \"seleniumserver\", \"studio\", \"stacktrace\", \"redirect\", \"critical\", \"concurrent\", \"jasmine\", \"rc\", \"checksum\", \"instrumentation\", \"platform\", \"tool\", \"linux\", \"root\", \"com\", \"task\"], \"Freq\": [31710.0, 19466.0, 12177.0, 14833.0, 15773.0, 4041.0, 5718.0, 4881.0, 3202.0, 3231.0, 4945.0, 12520.0, 5276.0, 5590.0, 17101.0, 3926.0, 3749.0, 3116.0, 2529.0, 3155.0, 5760.0, 2324.0, 2866.0, 2445.0, 4337.0, 3675.0, 4124.0, 2163.0, 3518.0, 4666.0, 4664.743462710727, 4447.601732483826, 4079.406306924324, 3793.0588004094343, 3178.640314583835, 2777.494954674887, 2554.2026867283034, 2540.6665614865183, 2373.9507975361025, 2350.899795075336, 2113.090028945798, 1964.2911103418974, 1854.6996173696311, 1800.9685157319373, 1797.8269639783648, 1787.513474418406, 1647.5260621320454, 1624.6724926013449, 1532.8208760845632, 1461.8885269433574, 1325.750155860747, 1134.165951114844, 1088.402310712961, 1074.657748293704, 1064.424441729463, 1060.9936906317846, 1007.443676433858, 985.389684528995, 957.6278988936458, 943.4454832618172, 1903.5125282924548, 4007.038514843727, 2885.353568266183, 5732.818547429014, 2502.861115585789, 3279.0078028416497, 1641.875799379225, 2688.528124138874, 2378.8976893874815, 10711.263115498778, 4461.205813779767, 7318.637423476137, 2699.559142111556, 4551.129177259881, 1993.2165790523388, 2551.4406849817483, 2482.648308023207, 2279.379394397317, 2645.141787290608, 2077.6436105386665, 2356.031506801275, 2060.1332144706057, 3673.8791041702266, 3517.2685117525866, 2775.284841124802, 2099.7938255710005, 1880.6561826170596, 1815.8273259450768, 1309.6853593242358, 1035.5247077704203, 1004.3916170915604, 998.388432670325, 680.079316294595, 659.1330196556241, 630.8408729361654, 611.9694115091388, 587.1321028691106, 549.0704217877449, 544.2835624286021, 534.0381424213984, 533.9468054569579, 526.166787510987, 510.2447608348304, 463.6256127018344, 463.2090080625933, 460.9135885546358, 456.7685852817768, 442.6694495418282, 425.9303029762637, 412.863917691258, 411.7975555609204, 410.55957328045514, 3388.033953435272, 5481.940618322027, 2459.7849402694583, 1973.773214836134, 1348.3493485279007, 1058.0046548015503, 882.3034495581161, 1261.541240062398, 866.6254248129616, 4108.60014986974, 1071.5226892984379, 1986.4134974201547, 1202.0765775198588, 5011.139383732508, 768.5752958358283, 1376.8843918004864, 1706.6500538755063, 3104.3933355829686, 1441.9195856758668, 5200.759015903232, 2358.4345623557574, 1046.702125086225, 1265.7323416866511, 2036.9611994620486, 1579.3807755407129, 2902.5280816696427, 1359.6298525655618, 1633.4660143030817, 1979.235910416247, 1316.8546764640391, 31708.955449110457, 2579.775043035508, 2120.6173796156777, 1792.3591099153853, 1588.1981472578113, 1096.0470637598548, 925.4288419247392, 921.1781269830741, 880.2485462944261, 860.1299882899583, 580.987647519032, 554.2559104077877, 547.5666418929899, 512.1215480237247, 495.47030224322845, 478.3025362634164, 473.01508840667475, 459.0602831191156, 456.535623205052, 450.9569379342312, 417.01949067305316, 414.4211375584484, 395.30219089415755, 392.101250521396, 372.5531863076851, 367.9639775978624, 367.6480317492734, 364.88709006481787, 364.0793717335128, 358.1361879510599, 14716.129270965308, 900.2485509517546, 3443.4664241546066, 644.8999219466148, 2629.4615443198104, 1905.5851771588616, 2225.693827372437, 2635.237425681632, 3473.515023085732, 1010.8049288054755, 1626.945529291627, 684.5874422365888, 1046.1160707483837, 1311.5777559367493, 1234.9031233408125, 2209.6678346159356, 824.8318880008771, 4400.609425619718, 849.6980793834953, 737.8073675020646, 983.2511354001343, 1567.8495533352361, 1041.4865978964742, 1017.0193554182786, 993.604951511994, 1024.0539920669562, 1046.3457924097725, 19465.19423842923, 4944.378956932012, 3924.800541675408, 1025.6215849633759, 851.0887080971511, 724.8552237693401, 711.4691664911604, 679.6654850345243, 637.8096717843282, 574.7334201798147, 520.617298280491, 501.3108388831936, 429.9999024096248, 419.6701286222718, 418.43555004423337, 384.1137313426934, 379.9662127303302, 378.85490423545696, 372.8590748953164, 367.1575756893844, 359.89765277167464, 336.1175551749059, 329.3720025312749, 276.04426964271215, 256.44995965859414, 254.99795920677286, 248.04918679934832, 247.31736820435458, 237.67648931644135, 232.20880920625362, 1232.6834823338424, 2210.530650332894, 2121.0600021140435, 770.7671278958982, 12545.261053413486, 475.59735013437313, 2133.506445679566, 3083.7015501398346, 555.633724462025, 2891.4173581436976, 1677.4167647242368, 1268.248527825649, 641.643448067451, 2576.552189458802, 483.12505026556676, 632.2976662805801, 849.1275474562937, 1116.7446500018284, 635.3334267968227, 755.1555973376949, 682.2550295363571, 600.7119620875028, 668.6003751835956, 2443.8559977187892, 2041.670864135534, 1421.8137776164342, 1416.341290264036, 1317.8742960654956, 1227.5416571733099, 1011.5153525278607, 863.2701227531049, 825.720697448088, 741.325502908755, 602.7766428776673, 554.5275522675319, 491.9721641070072, 473.60685966991934, 472.5421746234431, 433.9018743246438, 425.38252989964496, 400.757548448425, 380.5017834021139, 377.9455761964233, 352.24466324448645, 330.8304512762902, 330.16591631439564, 325.8611961498276, 313.0349878990934, 300.7650441875233, 298.355009819407, 290.9211967690485, 271.3680244372417, 260.5204775791256, 850.92953142567, 512.8990504364808, 1116.612721784728, 1132.7499545125033, 836.5792422200194, 1350.0809099849653, 2455.582880601284, 1105.7940056159357, 943.9928218344877, 1205.324628564145, 718.3260690410416, 618.1483710958083, 483.35150839118376, 458.96552962635246, 1717.9957104035711, 1354.8610204574939, 1267.0321694460283, 844.2741760802912, 5709.955171827276, 716.7066093287212, 540.2714419228221, 475.3310871427791, 454.623940730396, 444.7165174916331, 425.7511128940424, 421.97060327324914, 410.61652695529034, 376.8165428034052, 376.00441544694934, 333.86365176770727, 327.13753008699985, 308.1527529332898, 289.3979429226827, 288.1520491327483, 286.6772909452131, 284.54440232040463, 282.64532554599054, 277.86757634403784, 251.66401850553893, 228.2445652167837, 222.29330107495176, 214.28842676873825, 202.57962404626784, 198.3789683891445, 848.4678874211442, 10538.030578890424, 2050.4416487105314, 351.4190621230664, 578.1469350192996, 1827.8961616608044, 1319.2639187842474, 1508.720364687737, 393.2501927476562, 791.3783951261659, 518.8870607524387, 903.5853131110371, 529.2102488494554, 812.5206491489896, 511.0266908129094, 675.0491164148259, 4879.8737574377365, 2323.2182316299372, 2161.8276658893956, 1937.822223588432, 1247.012402525646, 931.1815257096616, 746.3051576255651, 686.321803982396, 645.9511389498248, 638.2471956822119, 617.8493281293811, 572.3548976485125, 566.5180938632813, 548.8042331272347, 522.7845972379125, 490.45986254282445, 490.04989396912725, 454.65856463491684, 444.0777609762986, 440.3905689817753, 406.7426211045894, 368.50738235591876, 334.681533864567, 307.1414245518898, 299.0450898656116, 297.2401388528633, 271.32819398380576, 262.3856059306985, 248.00905277781888, 228.6880211579653, 894.3883316137257, 1802.1543140868462, 487.4430780951441, 366.35833996600763, 430.5426584183098, 631.4273090430246, 553.7624267264447, 541.3271589423128, 564.4385431271363, 519.8158900227273, 3230.2654799874676, 1480.2113325438288, 1192.5458527595501, 1112.4129010641868, 930.6275552768213, 663.1680016687596, 658.2460071338164, 423.9182908994701, 393.49055079838774, 384.96150777730577, 353.81126664059775, 319.57834469182984, 289.0169010469172, 214.0600156359799, 201.52616921694127, 201.16386821297002, 195.0729160250719, 192.9513862777114, 160.88927938523662, 149.15817947225864, 148.47094267336777, 140.97277673575044, 140.27259853099125, 137.79244448121398, 134.35744228368787, 126.22268173406692, 118.06656129922473, 96.97457193350732, 96.24214963971879, 98.4140224772131, 664.2436994949835, 1320.8111464683261, 1153.9874081526252, 530.7805419139943, 1037.3544978381065, 416.8300771851769, 581.0262286367832, 1381.8654019958012, 510.9923590667765, 459.21693105595693, 409.0417436264666, 304.42385628941054, 211.20028592095957, 206.87111574141906, 203.3390019345811, 3201.0927070421003, 970.74273363756, 858.4156799253499, 821.813807673391, 741.3285131757699, 618.1608036066672, 581.1904380708934, 565.0529939865911, 546.6003443266444, 536.0347533410207, 515.8702002394394, 510.095721580141, 485.61376403658386, 458.8827434974623, 441.45196709973806, 402.7008915408549, 371.9697249076602, 349.6837386955103, 334.0943254435564, 276.8011812688248, 276.82090564278684, 266.1379640502758, 264.1300604536854, 246.67509277056976, 213.75146644416967, 209.14304003166225, 202.0881588838924, 198.31242127093324, 196.53904397893533, 195.45034195445527, 224.57760483891684, 4039.7812319108807, 1138.9833760517092, 454.1553436781496, 434.93450596205776, 257.2938256272668, 220.77185376347225, 211.7389114501039, 204.81479506492076, 155.49797965153206, 141.36112235808483, 127.01473893171864, 126.05404113741898, 109.86907158215216, 104.29123453799068, 96.30077573530025, 94.87649284072313, 95.16635438698297, 78.85936031538132, 72.99849378975827, 70.30908454029107, 69.65545286749771, 67.46548106250958, 63.979229824643745, 58.57950279025485, 58.471217051467036, 56.27459091489597, 55.61441510511321, 54.470954245462934, 54.48521911332741, 52.94088454110591, 505.6611213718632, 304.5456370140485, 80.04280759382239, 74.92015953284493, 67.97263923786372, 67.38609829920296], \"Total\": [31710.0, 19466.0, 12177.0, 14833.0, 15773.0, 4041.0, 5718.0, 4881.0, 3202.0, 3231.0, 4945.0, 12520.0, 5276.0, 5590.0, 17101.0, 3926.0, 3749.0, 3116.0, 2529.0, 3155.0, 5760.0, 2324.0, 2866.0, 2445.0, 4337.0, 3675.0, 4124.0, 2163.0, 3518.0, 4666.0, 4666.027392922561, 4448.885677312849, 4080.690236105935, 3794.342822132842, 3179.9242876791, 2778.77878052102, 2555.4866482935763, 2541.9504235150075, 2375.234765905039, 2352.1837596046125, 2114.3740240119214, 1965.57505777005, 1855.9836159177803, 1802.2524267773001, 1799.1109107631225, 1788.797360098232, 1648.8101632845355, 1625.9564165358076, 1534.1047321393146, 1463.1724881377247, 1327.0340573643416, 1135.4497717287602, 1089.686406416583, 1075.9417438845537, 1065.7083740181363, 1062.2777226910923, 1008.7276048654519, 986.6736891719817, 958.91187856301, 944.7294801342223, 1921.781706516332, 4145.889086400148, 2984.7251662289755, 6210.0723981915335, 2624.4195404830953, 3551.733969223265, 1690.4662525146334, 2964.5955914516935, 2740.1880243293344, 17101.048404735444, 6245.716850055307, 12520.500963456503, 3329.462018561896, 6956.467531525475, 2258.0098373657056, 3413.6346414099635, 3657.0255259683317, 3228.539060170903, 5541.094865674031, 3116.185785398488, 8637.940021163953, 3461.2312447891904, 3675.0899684603387, 3518.4794582684895, 2776.4960488803217, 2101.0047093110525, 1881.8670797079988, 1817.0382120277297, 1310.896364540816, 1036.735577926321, 1005.6026288664062, 999.599320802888, 681.2902707531447, 660.3442168465276, 632.0517438026702, 613.1801931985442, 588.343086041853, 550.2821664682226, 545.494480813308, 535.2490202079872, 535.1577465731942, 527.37773000537, 511.4556234805004, 464.83648741149796, 464.4201333683163, 462.12436885532094, 457.9794188219361, 443.88034281742114, 427.1411297414974, 414.0750862460401, 413.0085516197912, 411.77039560665787, 3418.1235721207163, 5590.803004685578, 2518.6135686586986, 2016.2644431559415, 1439.6171840227594, 1134.0062618027118, 932.8964602311185, 1448.7914772913998, 967.4971598260213, 6095.874461970482, 1246.0858217956115, 2662.534545244501, 1452.9056090552695, 8637.940021163953, 849.6996059367044, 1814.0633918076865, 2407.0012396426278, 5760.538479486025, 1990.672557905166, 12520.500963456503, 4271.288694807209, 1324.6079334456424, 1852.9245824216061, 4602.650719561118, 2917.499545598716, 15773.169681241061, 2786.8723354363315, 6956.467531525475, 17101.048404735444, 5541.094865674031, 31710.234092796367, 2581.0537053208113, 2121.895968772991, 1793.6380798072998, 1589.4767424282463, 1097.3257552629286, 926.7077166765441, 922.4568242834624, 881.5271848434862, 861.4087019371325, 582.2663922930174, 555.53451106978, 548.8453707723628, 513.4002318173771, 496.74899821282855, 479.58124392002105, 474.2937389763921, 460.33879756225303, 457.8143314260847, 452.2355788043062, 418.2981629925774, 415.69976344684187, 396.5809571276953, 393.37991476461985, 373.8321505870512, 369.2426493148548, 368.92692552517696, 366.16585538101305, 365.3579930770692, 359.4148702966088, 14833.89582100235, 923.1159123772491, 3749.1612748971506, 666.0233435104701, 3229.846937892883, 2311.324594239627, 2846.977491909763, 3557.324496157834, 5276.868964679727, 1247.9936138765624, 2339.5196001181935, 775.782528514238, 1402.8615277664715, 1922.1021369898388, 1789.8140312609062, 4602.650719561118, 1067.7907175617293, 17101.048404735444, 1205.7348199822961, 940.2286900920577, 1788.67885360034, 5541.094865674031, 3038.4571278722515, 2897.2252783610156, 2917.499545598716, 6245.716850055307, 8637.940021163953, 19466.4478195358, 4945.632485745427, 3926.0541399637973, 1026.8753838886234, 852.3422772456516, 726.1089997672902, 712.7227698732974, 680.9191486075815, 639.0631895671172, 575.9870438859325, 521.8709138145665, 502.5646727381662, 431.2535926118469, 420.92392315986683, 419.6895008068366, 385.36737133303205, 381.2199187020583, 380.1084817007198, 374.1127769491641, 368.4112765488136, 361.1514405751415, 337.37131575869023, 330.62588604024717, 277.2980786738136, 257.70364685308334, 256.2528876473374, 249.3027733864811, 248.57110083083606, 238.93069267038751, 233.4625674198001, 1249.1083001313589, 2329.186164655488, 2260.8312774876426, 803.1071952809226, 15773.169681241061, 498.14737143630146, 2669.3650686321294, 4337.945280016905, 605.0941069252724, 4124.846256789352, 2365.40954510481, 1726.9265570921796, 771.4955720831505, 5760.538479486025, 534.8968521839989, 828.375923564605, 1616.0873823498011, 2866.839169297662, 943.6850834688204, 1574.3481579555882, 1254.3448749387292, 1247.704621535197, 3461.2312447891904, 2445.102866499672, 2042.9175869073197, 1423.0606552936817, 1417.5883323869496, 1319.1209789176698, 1228.7884773493627, 1012.7621452740868, 864.5168463637012, 826.9674313027913, 742.5723081510963, 604.0233520018146, 555.7742111757585, 493.2189216557774, 474.85372213959926, 473.7889418447302, 435.14856955305885, 426.6294120172344, 402.0042834410186, 381.74858472051693, 379.1923518173431, 353.49156042819, 332.0772693840166, 331.41291437537797, 327.10804801058276, 314.2818321197621, 302.0119102685885, 299.6018697676448, 292.16828617203896, 272.61486414966987, 261.767349293812, 855.7818013005161, 532.4117563985634, 1216.3190623719292, 1278.6570740713084, 922.1600913685763, 1601.3827033515458, 3155.8011480653795, 1371.2879620643787, 1149.1065471745642, 1550.7019310408405, 832.4265186864217, 803.7134016176278, 816.0613838885201, 1098.980986776734, 1719.2471388375732, 1356.1124764459807, 1268.2835965003317, 845.5254278732422, 5718.667693457195, 717.9582362475654, 541.522851853459, 476.5824649920289, 455.87524743376906, 445.9681903454022, 427.002408504434, 423.2224192623171, 411.8680592995666, 378.0682208385118, 377.25591387596336, 335.115131141856, 328.38885483676853, 309.40439510728095, 290.64916936947094, 289.40341915757864, 287.92889175531917, 285.79641659906383, 283.896801708132, 279.11908337093394, 252.9156621060704, 229.49616498241946, 223.54469829584295, 215.547535631658, 203.83098560249448, 199.6313275229102, 862.3468715752376, 12177.622370019015, 2229.718212514862, 364.1445588541684, 635.3638444614448, 2340.043622510165, 1648.426737490656, 1939.643860362141, 422.33711972631136, 1022.4506027245633, 669.5736854828394, 1672.8374583463635, 983.1564437213042, 2786.8723354363315, 1042.962331227575, 2662.534545244501, 4881.133907029807, 2324.478334674054, 2163.088220697168, 1939.0823821083973, 1248.2724646721374, 932.4416690889846, 747.5653173801478, 687.582377105074, 647.2118983910458, 639.507311034577, 619.1096777286724, 573.6155931624573, 567.7781267972958, 550.0650637414765, 524.0446351595014, 491.7205258581019, 491.31022678814287, 455.9189205538099, 445.3379492817248, 441.65095906006775, 408.00270478008474, 369.7681651534303, 335.9419525280516, 308.40195837910187, 300.30593927493084, 298.50083737609646, 272.58842045089, 263.64581632438967, 249.26929293346953, 229.94815813224372, 1652.0708438121103, 5276.868964679727, 753.5080405059281, 548.6400238624888, 824.315120876105, 2407.0012396426278, 1789.8140312609062, 2365.40954510481, 2846.977491909763, 3413.6346414099635, 3231.559783854945, 1481.5056808472168, 1193.839907183462, 1113.7069665222161, 931.9215348165197, 664.4620195155869, 659.5401464498308, 425.2123347742869, 394.78470373526335, 386.2554467879893, 355.10534342547226, 320.8724056427675, 290.3110452141077, 215.42643003116126, 202.82031270589275, 202.4587084747503, 196.36680778470415, 194.24557869671833, 162.1832969660338, 150.4520815161636, 149.76521893984065, 142.26710726628392, 141.56675561562255, 139.09018152594578, 135.65163721322256, 127.51741640108146, 119.36071644014937, 98.26853186447678, 97.53679527266556, 99.74022426829534, 957.175970484809, 2866.839169297662, 2529.17459131313, 1042.962331227575, 3116.185785398488, 803.8731547857077, 1592.3626046999884, 12177.622370019015, 2340.043622510165, 2339.5196001181935, 4271.288694807209, 1939.643860362141, 1672.8374583463635, 2289.7869104764973, 1279.6777852633277, 3202.2655516705254, 971.9155677380214, 859.5888210534337, 822.986972163871, 742.5016581248104, 619.3336578851205, 582.3635458098184, 566.2258307097786, 547.7731294662799, 537.2076156510323, 517.0432530101972, 511.2688386898578, 486.78675421838415, 460.0559373334107, 442.62480138174374, 403.8737974056268, 373.14269304060593, 350.85686147035267, 335.26733296262665, 277.9739032866877, 277.9939315604711, 267.31100124191613, 265.3030192664395, 247.84827709098596, 214.92459130750947, 210.31602583747414, 203.26123574498197, 199.48544422614708, 197.71211650692914, 196.6233234198547, 243.2768253684683, 4041.0421082632574, 1140.24420255572, 455.41651217301285, 436.195213263986, 258.5550679818386, 222.03270379749588, 213.00012300007756, 206.07575774421622, 156.75959571832408, 142.62181807347707, 128.27554181731645, 127.3149233498223, 111.13029562468539, 105.55252113557269, 97.56210643474076, 96.13806934840292, 96.44962413385284, 80.12012583887777, 74.26011899880935, 71.5703416573249, 70.93324649609096, 68.72643955602356, 65.24023312114026, 59.84050671771242, 59.73281896445327, 57.53554914119726, 56.87515873235946, 55.73212328448197, 55.747421750557464, 54.202125244361696, 1163.4053822967442, 3749.1612748971506, 849.6996059367044, 1134.0062618027118, 2407.0012396426278, 2866.839169297662], \"Category\": [\"Default\", \"Default\", \"Default\", \"Default\", \"Default\", \"Default\", \"Default\", \"Default\", \"Default\", \"Default\", \"Default\", \"Default\", \"Default\", \"Default\", \"Default\", \"Default\", \"Default\", \"Default\", \"Default\", \"Default\", \"Default\", \"Default\", \"Default\", \"Default\", \"Default\", \"Default\", \"Default\", \"Default\", \"Default\", \"Default\", \"Topic1\", \"Topic1\", \"Topic1\", \"Topic1\", \"Topic1\", \"Topic1\", \"Topic1\", \"Topic1\", \"Topic1\", \"Topic1\", \"Topic1\", \"Topic1\", \"Topic1\", \"Topic1\", \"Topic1\", \"Topic1\", \"Topic1\", \"Topic1\", \"Topic1\", \"Topic1\", \"Topic1\", \"Topic1\", \"Topic1\", \"Topic1\", \"Topic1\", \"Topic1\", \"Topic1\", \"Topic1\", \"Topic1\", \"Topic1\", \"Topic1\", \"Topic1\", \"Topic1\", \"Topic1\", \"Topic1\", \"Topic1\", \"Topic1\", \"Topic1\", \"Topic1\", \"Topic1\", \"Topic1\", \"Topic1\", \"Topic1\", \"Topic1\", \"Topic1\", \"Topic1\", \"Topic1\", \"Topic1\", \"Topic1\", \"Topic1\", \"Topic1\", \"Topic1\", \"Topic2\", \"Topic2\", \"Topic2\", \"Topic2\", \"Topic2\", \"Topic2\", \"Topic2\", \"Topic2\", \"Topic2\", \"Topic2\", \"Topic2\", \"Topic2\", \"Topic2\", \"Topic2\", \"Topic2\", \"Topic2\", \"Topic2\", \"Topic2\", \"Topic2\", \"Topic2\", \"Topic2\", \"Topic2\", \"Topic2\", \"Topic2\", \"Topic2\", \"Topic2\", \"Topic2\", \"Topic2\", \"Topic2\", \"Topic2\", \"Topic2\", \"Topic2\", \"Topic2\", \"Topic2\", \"Topic2\", \"Topic2\", \"Topic2\", \"Topic2\", \"Topic2\", \"Topic2\", \"Topic2\", \"Topic2\", \"Topic2\", \"Topic2\", \"Topic2\", \"Topic2\", \"Topic2\", \"Topic2\", \"Topic2\", \"Topic2\", \"Topic2\", \"Topic2\", \"Topic2\", \"Topic2\", \"Topic2\", \"Topic2\", \"Topic2\", \"Topic2\", \"Topic2\", \"Topic2\", \"Topic3\", \"Topic3\", \"Topic3\", \"Topic3\", \"Topic3\", \"Topic3\", \"Topic3\", \"Topic3\", \"Topic3\", \"Topic3\", \"Topic3\", \"Topic3\", \"Topic3\", \"Topic3\", \"Topic3\", \"Topic3\", \"Topic3\", \"Topic3\", \"Topic3\", \"Topic3\", \"Topic3\", \"Topic3\", \"Topic3\", \"Topic3\", \"Topic3\", \"Topic3\", \"Topic3\", \"Topic3\", \"Topic3\", \"Topic3\", \"Topic3\", \"Topic3\", \"Topic3\", \"Topic3\", \"Topic3\", \"Topic3\", \"Topic3\", \"Topic3\", \"Topic3\", \"Topic3\", \"Topic3\", \"Topic3\", \"Topic3\", \"Topic3\", \"Topic3\", \"Topic3\", \"Topic3\", \"Topic3\", \"Topic3\", \"Topic3\", \"Topic3\", \"Topic3\", \"Topic3\", \"Topic3\", \"Topic3\", \"Topic3\", \"Topic3\", \"Topic4\", \"Topic4\", \"Topic4\", \"Topic4\", \"Topic4\", \"Topic4\", \"Topic4\", \"Topic4\", \"Topic4\", \"Topic4\", \"Topic4\", \"Topic4\", \"Topic4\", \"Topic4\", \"Topic4\", \"Topic4\", \"Topic4\", \"Topic4\", \"Topic4\", \"Topic4\", \"Topic4\", \"Topic4\", \"Topic4\", \"Topic4\", \"Topic4\", \"Topic4\", \"Topic4\", \"Topic4\", \"Topic4\", \"Topic4\", \"Topic4\", \"Topic4\", \"Topic4\", \"Topic4\", \"Topic4\", \"Topic4\", \"Topic4\", \"Topic4\", \"Topic4\", \"Topic4\", \"Topic4\", \"Topic4\", \"Topic4\", \"Topic4\", \"Topic4\", \"Topic4\", \"Topic4\", \"Topic4\", \"Topic4\", \"Topic4\", \"Topic4\", \"Topic4\", \"Topic4\", \"Topic5\", \"Topic5\", \"Topic5\", \"Topic5\", \"Topic5\", \"Topic5\", \"Topic5\", \"Topic5\", \"Topic5\", \"Topic5\", \"Topic5\", \"Topic5\", \"Topic5\", \"Topic5\", \"Topic5\", \"Topic5\", \"Topic5\", \"Topic5\", \"Topic5\", \"Topic5\", \"Topic5\", \"Topic5\", \"Topic5\", \"Topic5\", \"Topic5\", \"Topic5\", \"Topic5\", \"Topic5\", \"Topic5\", \"Topic5\", \"Topic5\", \"Topic5\", \"Topic5\", \"Topic5\", \"Topic5\", \"Topic5\", \"Topic5\", \"Topic5\", \"Topic5\", \"Topic5\", \"Topic5\", \"Topic5\", \"Topic5\", \"Topic5\", \"Topic6\", \"Topic6\", \"Topic6\", \"Topic6\", \"Topic6\", \"Topic6\", \"Topic6\", \"Topic6\", \"Topic6\", \"Topic6\", \"Topic6\", \"Topic6\", \"Topic6\", \"Topic6\", \"Topic6\", \"Topic6\", \"Topic6\", \"Topic6\", \"Topic6\", \"Topic6\", \"Topic6\", \"Topic6\", \"Topic6\", \"Topic6\", \"Topic6\", \"Topic6\", \"Topic6\", \"Topic6\", \"Topic6\", \"Topic6\", \"Topic6\", \"Topic6\", \"Topic6\", \"Topic6\", \"Topic6\", \"Topic6\", \"Topic6\", \"Topic6\", \"Topic6\", \"Topic6\", \"Topic6\", \"Topic6\", \"Topic6\", \"Topic6\", \"Topic6\", \"Topic6\", \"Topic7\", \"Topic7\", \"Topic7\", \"Topic7\", \"Topic7\", \"Topic7\", \"Topic7\", \"Topic7\", \"Topic7\", \"Topic7\", \"Topic7\", \"Topic7\", \"Topic7\", \"Topic7\", \"Topic7\", \"Topic7\", \"Topic7\", \"Topic7\", \"Topic7\", \"Topic7\", \"Topic7\", \"Topic7\", \"Topic7\", \"Topic7\", \"Topic7\", \"Topic7\", \"Topic7\", \"Topic7\", \"Topic7\", \"Topic7\", \"Topic7\", \"Topic7\", \"Topic7\", \"Topic7\", \"Topic7\", \"Topic7\", \"Topic7\", \"Topic7\", \"Topic7\", \"Topic7\", \"Topic8\", \"Topic8\", \"Topic8\", \"Topic8\", \"Topic8\", \"Topic8\", \"Topic8\", \"Topic8\", \"Topic8\", \"Topic8\", \"Topic8\", \"Topic8\", \"Topic8\", \"Topic8\", \"Topic8\", \"Topic8\", \"Topic8\", \"Topic8\", \"Topic8\", \"Topic8\", \"Topic8\", \"Topic8\", \"Topic8\", \"Topic8\", \"Topic8\", \"Topic8\", \"Topic8\", \"Topic8\", \"Topic8\", \"Topic8\", \"Topic8\", \"Topic8\", \"Topic8\", \"Topic8\", \"Topic8\", \"Topic8\", \"Topic8\", \"Topic8\", \"Topic8\", \"Topic8\", \"Topic8\", \"Topic8\", \"Topic8\", \"Topic8\", \"Topic8\", \"Topic9\", \"Topic9\", \"Topic9\", \"Topic9\", \"Topic9\", \"Topic9\", \"Topic9\", \"Topic9\", \"Topic9\", \"Topic9\", \"Topic9\", \"Topic9\", \"Topic9\", \"Topic9\", \"Topic9\", \"Topic9\", \"Topic9\", \"Topic9\", \"Topic9\", \"Topic9\", \"Topic9\", \"Topic9\", \"Topic9\", \"Topic9\", \"Topic9\", \"Topic9\", \"Topic9\", \"Topic9\", \"Topic9\", \"Topic9\", \"Topic9\", \"Topic10\", \"Topic10\", \"Topic10\", \"Topic10\", \"Topic10\", \"Topic10\", \"Topic10\", \"Topic10\", \"Topic10\", \"Topic10\", \"Topic10\", \"Topic10\", \"Topic10\", \"Topic10\", \"Topic10\", \"Topic10\", \"Topic10\", \"Topic10\", \"Topic10\", \"Topic10\", \"Topic10\", \"Topic10\", \"Topic10\", \"Topic10\", \"Topic10\", \"Topic10\", \"Topic10\", \"Topic10\", \"Topic10\", \"Topic10\", \"Topic10\", \"Topic10\", \"Topic10\", \"Topic10\", \"Topic10\", \"Topic10\"], \"logprob\": [30.0, 29.0, 28.0, 27.0, 26.0, 25.0, 24.0, 23.0, 22.0, 21.0, 20.0, 19.0, 18.0, 17.0, 16.0, 15.0, 14.0, 13.0, 12.0, 11.0, 10.0, 9.0, 8.0, 7.0, 6.0, 5.0, 4.0, 3.0, 2.0, 1.0, -4.0818, -4.1295, -4.2159, -4.2886, -4.4654, -4.6003, -4.6841, -4.6894, -4.7573, -4.767, -4.8737, -4.9467, -5.0041, -5.0335, -5.0352, -5.041, -5.1225, -5.1365, -5.1947, -5.2421, -5.3398, -5.4959, -5.5371, -5.5498, -5.5594, -5.5626, -5.6144, -5.6365, -5.6651, -5.68, -4.9781, -4.2338, -4.5622, -3.8756, -4.7044, -4.4343, -5.126, -4.6328, -4.7552, -3.2505, -4.1264, -3.6314, -4.6287, -4.1064, -4.9321, -4.6852, -4.7125, -4.7979, -4.6491, -4.8906, -4.7648, -4.899, -3.8683, -3.9119, -4.1488, -4.4277, -4.5379, -4.573, -4.8998, -5.1346, -5.1652, -5.1712, -5.5551, -5.5864, -5.6303, -5.6606, -5.7021, -5.7691, -5.7778, -5.7968, -5.797, -5.8117, -5.8424, -5.9382, -5.9391, -5.9441, -5.9531, -5.9845, -6.023, -6.0542, -6.0568, -6.0598, -3.9493, -3.4681, -4.2695, -4.4896, -4.8707, -5.1132, -5.2948, -4.9372, -5.3127, -3.7565, -5.1005, -4.4832, -4.9855, -3.5579, -5.4328, -4.8497, -4.635, -4.0367, -4.8036, -3.5207, -4.3116, -5.1239, -4.9339, -4.4581, -4.7125, -4.104, -4.8623, -4.6788, -4.4868, -4.8943, -1.6716, -4.1805, -4.3765, -4.5447, -4.6656, -5.0365, -5.2057, -5.2103, -5.2558, -5.2789, -5.6712, -5.7183, -5.7305, -5.7974, -5.8305, -5.8657, -5.8768, -5.9068, -5.9123, -5.9246, -6.0028, -6.0091, -6.0563, -6.0644, -6.1156, -6.128, -6.1288, -6.1364, -6.1386, -6.1551, -2.4393, -5.2333, -3.8917, -5.5669, -4.1614, -4.4834, -4.3281, -4.1592, -3.883, -5.1175, -4.6415, -5.5072, -5.0831, -4.857, -4.9172, -4.3354, -5.3208, -3.6465, -5.2911, -5.4323, -5.1451, -4.6785, -5.0876, -5.1113, -5.1346, -5.1044, -5.0829, -1.764, -3.1343, -3.3653, -4.7073, -4.8938, -5.0544, -5.073, -5.1187, -5.1823, -5.2864, -5.3853, -5.4231, -5.5766, -5.6009, -5.6038, -5.6894, -5.7003, -5.7032, -5.7191, -5.7346, -5.7545, -5.8229, -5.8432, -6.0198, -6.0934, -6.0991, -6.1267, -6.1297, -6.1694, -6.1927, -4.5234, -3.9394, -3.9807, -4.993, -2.2032, -5.4758, -3.9748, -3.6065, -5.3202, -3.6708, -4.2153, -4.495, -5.1763, -3.7861, -5.4601, -5.191, -4.8961, -4.6222, -5.1862, -5.0134, -5.1149, -5.2422, -5.1352, -3.3069, -3.4867, -3.8485, -3.8524, -3.9244, -3.9954, -4.189, -4.3475, -4.392, -4.4998, -4.7067, -4.7901, -4.9098, -4.9478, -4.9501, -5.0354, -5.0552, -5.1149, -5.1667, -5.1735, -5.2439, -5.3066, -5.3086, -5.3217, -5.3619, -5.4019, -5.4099, -5.4352, -5.5047, -5.5455, -4.3619, -4.8681, -4.0902, -4.0758, -4.3789, -3.9003, -3.3021, -4.0999, -4.2581, -4.0137, -4.5313, -4.6815, -4.9275, -4.9792, -3.6178, -3.8552, -3.9223, -4.3282, -2.4167, -4.492, -4.7746, -4.9027, -4.9472, -4.9693, -5.0128, -5.0218, -5.049, -5.1349, -5.1371, -5.256, -5.2763, -5.3361, -5.3989, -5.4032, -5.4083, -5.4158, -5.4225, -5.4395, -5.5386, -5.6363, -5.6627, -5.6994, -5.7556, -5.7765, -4.3233, -1.8039, -3.4409, -5.2047, -4.7069, -3.5558, -3.8819, -3.7477, -5.0922, -4.3929, -4.815, -4.2603, -4.7953, -4.3666, -4.8303, -4.5519, -2.3883, -3.1304, -3.2024, -3.3118, -3.7526, -4.0447, -4.266, -4.3498, -4.4104, -4.4224, -4.4549, -4.5314, -4.5416, -4.5734, -4.622, -4.6858, -4.6866, -4.7616, -4.7851, -4.7935, -4.873, -4.9717, -5.068, -5.1538, -5.1805, -5.1866, -5.2778, -5.3113, -5.3677, -5.4488, -4.085, -3.3844, -4.692, -4.9775, -4.8161, -4.4332, -4.5644, -4.5871, -4.5453, -4.6277, -2.2721, -3.0525, -3.2685, -3.3381, -3.5165, -3.8554, -3.8628, -4.3029, -4.3773, -4.3993, -4.4836, -4.5854, -4.6859, -4.9861, -5.0465, -5.0483, -5.079, -5.09, -5.2717, -5.3474, -5.352, -5.4038, -5.4088, -5.4266, -5.4519, -5.5143, -5.5811, -5.7779, -5.7855, -5.7632, -3.8537, -3.1664, -3.3014, -4.078, -3.408, -4.3197, -3.9876, -3.1212, -4.116, -4.2229, -4.3386, -4.634, -4.9996, -5.0203, -5.0375, -2.2001, -3.3933, -3.5163, -3.5599, -3.6629, -3.8446, -3.9063, -3.9345, -3.9677, -3.9872, -4.0255, -4.0368, -4.086, -4.1426, -4.1813, -4.2732, -4.3526, -4.4143, -4.4599, -4.6481, -4.648, -4.6874, -4.6949, -4.7633, -4.9066, -4.9284, -4.9627, -4.9815, -4.9905, -4.9961, -4.8571, -1.3295, -2.5956, -3.515, -3.5583, -4.0832, -4.2363, -4.2781, -4.3114, -4.5868, -4.6821, -4.7892, -4.7967, -4.9342, -4.9863, -5.066, -5.0809, -5.0778, -5.2658, -5.343, -5.3806, -5.3899, -5.4218, -5.4749, -5.5631, -5.5649, -5.6032, -5.615, -5.6358, -5.6355, -5.6643, -3.4076, -3.9146, -5.2509, -5.317, -5.4144, -5.423], \"loglift\": [30.0, 29.0, 28.0, 27.0, 26.0, 25.0, 24.0, 23.0, 22.0, 21.0, 20.0, 19.0, 18.0, 17.0, 16.0, 15.0, 14.0, 13.0, 12.0, 11.0, 10.0, 9.0, 8.0, 7.0, 6.0, 5.0, 4.0, 3.0, 2.0, 1.0, 1.2796, 1.2795, 1.2795, 1.2795, 1.2794, 1.2794, 1.2793, 1.2793, 1.2793, 1.2793, 1.2792, 1.2792, 1.2791, 1.2791, 1.2791, 1.2791, 1.279, 1.279, 1.279, 1.279, 1.2789, 1.2787, 1.2786, 1.2786, 1.2786, 1.2786, 1.2786, 1.2785, 1.2785, 1.2785, 1.2703, 1.2458, 1.246, 1.1999, 1.2324, 1.1999, 1.2507, 1.1821, 1.1384, 0.812, 0.9434, 0.7429, 1.0701, 0.8555, 1.1551, 0.9887, 0.8925, 0.9317, 0.5404, 0.8745, -0.0194, 0.761, 1.7318, 1.7318, 1.7317, 1.7315, 1.7315, 1.7314, 1.7312, 1.7309, 1.7309, 1.7309, 1.7303, 1.7303, 1.7302, 1.7301, 1.73, 1.7299, 1.7299, 1.7298, 1.7298, 1.7298, 1.7297, 1.7295, 1.7295, 1.7295, 1.7294, 1.7294, 1.7293, 1.7292, 1.7292, 1.7292, 1.7233, 1.7124, 1.7085, 1.7108, 1.6666, 1.6627, 1.6763, 1.5937, 1.622, 1.3376, 1.5812, 1.4391, 1.5426, 1.1876, 1.6318, 1.4564, 1.3882, 1.1139, 1.4096, 0.8535, 1.1382, 1.4966, 1.351, 0.9169, 1.1184, 0.0394, 1.0144, 0.2831, -0.4243, 0.2952, 1.7734, 1.7729, 1.7728, 1.7727, 1.7726, 1.7723, 1.7721, 1.772, 1.772, 1.7719, 1.7712, 1.7711, 1.7711, 1.7709, 1.7709, 1.7708, 1.7707, 1.7707, 1.7706, 1.7706, 1.7704, 1.7704, 1.7702, 1.7702, 1.77, 1.77, 1.77, 1.7699, 1.7699, 1.7699, 1.7655, 1.7483, 1.6884, 1.7412, 1.5678, 1.5804, 1.5272, 1.4734, 1.3553, 1.5626, 1.4102, 1.6484, 1.48, 1.3912, 1.4023, 1.0396, 1.5153, 0.416, 1.4235, 1.531, 1.1751, 0.5109, 0.7027, 0.7266, 0.6963, -0.0347, -0.3374, 2.169, 2.1688, 2.1687, 2.1678, 2.1676, 2.1673, 2.1673, 2.1672, 2.1671, 2.1669, 2.1666, 2.1666, 2.1661, 2.1661, 2.1661, 2.1658, 2.1658, 2.1658, 2.1657, 2.1656, 2.1656, 2.1653, 2.1653, 2.1645, 2.1642, 2.1641, 2.164, 2.164, 2.1638, 2.1637, 2.1558, 2.1168, 2.1052, 2.128, 1.9401, 2.1227, 1.945, 1.8278, 2.0838, 1.8138, 1.8254, 1.8603, 1.9848, 1.3645, 2.0673, 1.8989, 1.5255, 1.2263, 1.7734, 1.4344, 1.5601, 1.4381, 0.5249, 2.7007, 2.7006, 2.7003, 2.7003, 2.7002, 2.7002, 2.7, 2.6997, 2.6997, 2.6995, 2.6991, 2.6989, 2.6987, 2.6986, 2.6985, 2.6983, 2.6983, 2.6981, 2.6979, 2.6979, 2.6977, 2.6974, 2.6974, 2.6974, 2.6972, 2.697, 2.697, 2.6969, 2.6966, 2.6964, 2.6955, 2.6638, 2.6157, 2.58, 2.6038, 2.5305, 2.4503, 2.486, 2.5046, 2.4492, 2.5538, 2.4387, 2.1774, 1.828, 2.742, 2.7418, 2.7417, 2.7412, 2.7412, 2.741, 2.7404, 2.7401, 2.74, 2.7399, 2.7398, 2.7397, 2.7397, 2.7394, 2.7394, 2.739, 2.7389, 2.7387, 2.7384, 2.7384, 2.7384, 2.7383, 2.7383, 2.7382, 2.7377, 2.7372, 2.7371, 2.7368, 2.7366, 2.7364, 2.7265, 2.5981, 2.6589, 2.7071, 2.6483, 2.4957, 2.52, 2.4915, 2.6714, 2.4865, 2.4878, 2.1268, 2.1233, 1.5102, 2.0293, 1.3705, 2.928, 2.9277, 2.9277, 2.9276, 2.9272, 2.9269, 2.9266, 2.9264, 2.9263, 2.9263, 2.9262, 2.9261, 2.926, 2.926, 2.9259, 2.9257, 2.9257, 2.9255, 2.9254, 2.9254, 2.9252, 2.9248, 2.9245, 2.9242, 2.9241, 2.924, 2.9236, 2.9235, 2.9232, 2.9228, 2.3146, 1.8539, 2.4927, 2.5244, 2.2788, 1.5901, 1.7551, 1.4536, 1.3101, 1.0462, 3.4566, 3.4561, 3.4559, 3.4558, 3.4556, 3.4551, 3.455, 3.454, 3.4537, 3.4537, 3.4534, 3.453, 3.4525, 3.4506, 3.4506, 3.4506, 3.4504, 3.4503, 3.449, 3.4484, 3.4483, 3.4479, 3.4478, 3.4476, 3.4474, 3.4468, 3.4461, 3.4438, 3.4436, 3.4436, 3.0917, 2.682, 2.6723, 2.7815, 2.3571, 2.8002, 2.4488, 1.2808, 1.9354, 1.8288, 1.1112, 1.6052, 1.3875, 1.0529, 1.6175, 3.5377, 3.5368, 3.5367, 3.5366, 3.5365, 3.5361, 3.536, 3.536, 3.5359, 3.5358, 3.5358, 3.5357, 3.5356, 3.5355, 3.5354, 3.5351, 3.5349, 3.5347, 3.5345, 3.5338, 3.5338, 3.5336, 3.5336, 3.5333, 3.5326, 3.5324, 3.5322, 3.5321, 3.5321, 3.532, 3.4581, 4.1756, 4.1748, 4.1732, 4.173, 4.1711, 4.1702, 4.17, 4.1698, 4.1679, 4.1671, 4.1661, 4.166, 4.1645, 4.1639, 4.1629, 4.1627, 4.1625, 4.1601, 4.1588, 4.1582, 4.1578, 4.1574, 4.1564, 4.1546, 4.1546, 4.1538, 4.1535, 4.1531, 4.153, 4.1524, 3.3427, 1.6655, 1.8136, 1.4589, 0.6089, 0.4254]}, \"token.table\": {\"Topic\": [1, 2, 4, 2, 4, 8, 1, 2, 3, 4, 6, 10, 6, 7, 1, 2, 5, 9, 2, 3, 5, 2, 9, 7, 3, 7, 8, 8, 8, 9, 1, 4, 1, 8, 7, 9, 3, 3, 6, 4, 7, 2, 6, 4, 2, 1, 1, 4, 5, 4, 3, 9, 5, 7, 9, 2, 1, 4, 5, 6, 7, 6, 1, 4, 8, 1, 1, 2, 3, 4, 3, 7, 7, 10, 6, 4, 1, 2, 3, 4, 5, 7, 4, 2, 1, 2, 3, 4, 10, 2, 7, 10, 4, 3, 4, 2, 3, 4, 6, 1, 7, 8, 6, 7, 8, 5, 2, 10, 5, 6, 3, 7, 8, 3, 9, 4, 1, 2, 3, 6, 8, 9, 8, 10, 3, 1, 2, 3, 9, 10, 3, 8, 1, 5, 5, 4, 9, 2, 5, 9, 2, 5, 1, 6, 3, 3, 7, 1, 7, 1, 4, 5, 6, 2, 3, 4, 1, 6, 1, 1, 5, 2, 3, 6, 4, 6, 8, 2, 3, 4, 6, 9, 6, 2, 10, 9, 5, 6, 3, 7, 2, 3, 6, 1, 4, 5, 9, 2, 7, 4, 8, 2, 7, 10, 8, 2, 7, 2, 4, 7, 1, 2, 3, 8, 2, 2, 4, 7, 2, 4, 7, 2, 5, 1, 9, 2, 3, 6, 8, 1, 2, 3, 7, 4, 7, 6, 8, 1, 2, 3, 4, 3, 3, 2, 5, 6, 8, 6, 1, 3, 6, 7, 1, 2, 3, 4, 3, 4, 7, 1, 10, 2, 4, 5, 5, 6, 5, 9, 9, 2, 1, 2, 9, 4, 2, 7, 7, 5, 8, 9, 6, 1, 3, 5, 6, 8, 7, 6, 7, 9, 2, 2, 2, 10, 4, 3, 4, 1, 4, 2, 7, 10, 4, 6, 8, 10, 7, 10, 7, 3, 6, 7, 10, 4, 4, 7, 2, 3, 1, 7, 4, 3, 3, 10, 5, 5, 6, 8, 1, 2, 6, 2, 10, 6, 2, 5, 1, 2, 6, 2, 2, 4, 7, 1, 2, 3, 4, 1, 9, 2, 1, 2, 3, 6, 7, 1, 3, 5, 9, 7, 8, 1, 5, 7, 9, 7, 7, 5, 7, 5, 5, 3, 8, 8, 3, 1, 7, 10, 2, 2, 3, 5, 9, 8, 1, 3, 8, 2, 1, 2, 5, 3, 6, 4, 8, 5, 5, 8, 6, 6, 7, 3, 2, 3, 4, 2, 3, 6, 8, 2, 5, 4, 6, 10, 1, 4, 8, 2, 3, 6, 9, 6, 2, 2, 4, 5, 6, 2, 10, 5, 7, 1, 7, 1, 1, 3, 4, 5, 6, 8, 6, 3, 9, 1, 2, 3, 5, 1, 6, 6, 8, 1, 3, 7, 8, 9, 2, 5, 7, 3, 4, 3, 8, 7, 4, 5, 2, 6, 9, 1, 4, 3, 9, 6, 3, 10, 4, 7, 1, 10, 3, 8, 9, 1, 3, 1, 2, 4, 7, 1, 2, 7, 10, 3, 5, 7, 4, 6, 5, 1, 2, 10, 6, 2, 3, 4, 7, 9, 2, 10, 4, 9, 10, 1, 2, 4, 3, 4, 7, 10, 10, 4, 6, 9, 1, 2, 1, 2, 8, 9, 10, 1, 2, 3, 4, 1, 2, 3, 5, 2, 8, 3, 3, 6, 6, 8, 3, 7, 5, 1, 8, 3, 7, 10, 7, 1, 2, 3, 7, 8, 9, 10, 4, 1, 2, 4, 5, 2, 4, 3, 5, 10, 10, 9, 4, 1, 2, 3, 1, 1, 2, 8, 9, 3, 6, 7, 8, 1, 4, 7, 8, 10, 5, 10, 5, 4, 1, 4, 5, 1, 3, 4, 6, 9, 1, 3, 1, 9, 8, 7, 1, 3, 4, 7, 6, 3, 10, 9, 1, 2, 4, 5, 8, 1, 1, 2, 3, 4, 2, 5, 8, 2, 4, 2, 6, 10, 1, 2, 3, 6, 4, 2, 7, 5, 4, 5, 3, 7, 5, 2, 8, 4, 1, 6, 1, 1, 2, 8, 8, 7, 5, 1, 2, 8, 1, 2, 3, 3, 5, 10, 1, 3, 4, 6, 6, 7, 8], \"Freq\": [0.12838286455669787, 0.871070833712649, 0.99338912400392, 0.936360037210204, 0.03403682627841246, 0.028479793416630834, 0.8681885983288553, 0.07955658446224903, 0.03941335377028851, 0.01240790766842416, 0.9972133429504083, 0.9972599120126918, 0.9992746017664358, 0.9979061128924045, 0.2451432798739811, 0.7243782983161491, 0.027126510477858565, 0.0035163995063890734, 0.24653359595033375, 0.7407252284254612, 0.012368846319058933, 0.9972603190941918, 0.9950955956327077, 0.9965010086672721, 0.9990709254254388, 0.9986295231172693, 0.99547929866994, 0.9992964658172271, 0.9842439433408754, 0.996937651300915, 0.9993501509211156, 0.9967999607517578, 0.998287342532197, 0.9903485448554091, 0.9971834915547706, 0.9925536209826763, 0.9970917125183828, 0.9960135324218651, 0.9957707004476175, 0.995974402972701, 0.9980637495240435, 0.9977171720485597, 0.9971878345516783, 0.9991475266596532, 0.9974036442139355, 0.9993598696904233, 0.9981693382385225, 0.9029778321332372, 0.09534548538052816, 0.9984726814188425, 0.9999610821921795, 0.9988007438789998, 0.9183445648066648, 0.08139311720309741, 0.9950885622408583, 0.9973284479951907, 0.14170025860051735, 0.525342880139036, 0.08724775747892118, 0.17573307180151498, 0.0699219616675042, 0.991828298979162, 0.4552177087883359, 0.5437101180273994, 0.9976648177398736, 0.9995857965177116, 0.5914185800141238, 0.04278487223251869, 0.34260809226193817, 0.02270889372341377, 0.7849154229996348, 0.2137777778088436, 0.9949079450640224, 0.9686546624814987, 0.9968410996434754, 0.9937353236710954, 0.923177643093104, 0.0389689498741551, 0.005797033865576792, 0.032044714979160595, 0.7770674530541126, 0.22183502394241886, 0.9947743325564153, 0.9983359846516007, 0.7142494780179631, 0.11575933033108884, 0.16395235720475101, 0.005763950057979528, 0.9939855443794751, 0.7091811885620141, 0.26215192148953187, 0.028250920223911517, 0.9953188327880895, 0.8829794108819352, 0.11601189340054623, 0.9911871026646276, 0.004388372650522259, 0.0023404654136118717, 0.0017553490602089036, 0.9996261046217836, 0.9981275090985525, 0.9935876085052979, 0.7779778704933298, 0.06444482028606112, 0.15672980293570063, 0.9978826194650173, 0.9980167114140865, 0.9733112977260565, 0.19897760242551224, 0.8001568829245447, 0.781881840065687, 0.19810483279292337, 0.019669983397878916, 0.9964791107397881, 0.9983837805536689, 0.9970255574849953, 0.9996460988909571, 0.9994611737765934, 0.31443580927459774, 0.5403991855213619, 0.1261329957356276, 0.01853138799907325, 0.9984673109053573, 0.9830310129340144, 0.9982675692029198, 0.6789670956268578, 0.20672538231731954, 0.10390958370447279, 0.01039095837044728, 0.9709905041400362, 0.9990867277932258, 0.9967496981636653, 0.9994700298486774, 0.9946533385492983, 0.9983057741088601, 0.9936794710825807, 0.9996047949022013, 0.9979643694724141, 0.8860858966606825, 0.11340022508014029, 0.999316220133748, 0.9961807321029976, 0.22402314077177748, 0.7751200670703501, 0.9972377754411241, 0.6900158219957382, 0.3095293646847279, 0.9665881578118724, 0.0328338438355506, 0.9992798847978429, 0.9959352923777578, 0.0662977481547086, 0.9305362508857313, 0.11861781822840271, 0.3991329289036794, 0.48168451861668937, 0.9907472807884277, 0.00884595786418239, 0.9993825223578621, 0.9991986783899074, 0.99685554887479, 0.48800226070889224, 0.22031866770239694, 0.2917248808502422, 0.9982863435967703, 0.9959906597663667, 0.9990111454858684, 0.04967974139500072, 0.8101002991991246, 0.13862250421508265, 0.0008012861515322696, 0.9964964218756778, 0.9978923850005683, 0.9978614348556197, 0.994779794790072, 0.9977047631652551, 0.032953945646640094, 0.9639029101642227, 0.9983646532314282, 0.9982076233523864, 0.2537670275745575, 0.7456188506825481, 0.9989879262777871, 0.9537347064331244, 0.020575978484773758, 0.017908722014525306, 0.007239696133531507, 0.9805389307055906, 0.019317439714739836, 0.9961047588320039, 0.9927950322031605, 0.9454425411599169, 0.0535965159387708, 0.9968896336976145, 0.9977996943803458, 0.8961266616595618, 0.10335947654666226, 0.06172292671353485, 0.7089681376616297, 0.22871303665768736, 0.2672547761150862, 0.3071085585182131, 0.2656918826875126, 0.15863368289872076, 0.9975669561462297, 0.5388385150196844, 0.447354011986381, 0.013713995710874699, 0.14124022279224918, 0.7629386393564229, 0.09416014852816612, 0.03380841948675003, 0.9635399553723758, 0.9987231740541435, 0.9975182553798717, 0.014124267839300014, 0.006980016083375008, 0.8653577586659509, 0.11348684973205012, 0.07712946769809435, 0.4425710583127273, 0.4801580946839113, 0.997984464973084, 0.9555405233346023, 0.04215619955887951, 0.7811820183245577, 0.21837199746381236, 0.08568981625966154, 0.5412168794960223, 0.3407027094484143, 0.032219370913632736, 0.9960634063486545, 0.9987918307243131, 0.9969421365132978, 0.998606968153271, 0.9934806536634977, 0.9889327433633037, 0.994325910605392, 0.005805588330029966, 0.7049642972179244, 0.2571046260441842, 0.03234542069588124, 0.27275021523968995, 0.5801151649261826, 0.12109368639249392, 0.025932108749444203, 0.25746241522484953, 0.09422593546888823, 0.6463102897654728, 0.9994182523729603, 0.988628541583718, 0.08425194175060594, 0.8321499477521387, 0.08295575803136584, 0.9975286397129992, 0.9971745288822672, 0.9966125932476387, 0.9976586003371445, 0.9979822713010499, 0.9992904864634893, 0.16457700010366577, 0.7904225647180645, 0.04454148167943248, 0.9964517719071488, 0.8273077015523279, 0.17206898950755573, 0.999496913400593, 0.9982021365742854, 0.9972811446935741, 0.9977520503882493, 0.995150647626542, 0.013526856611646048, 0.6825859951722929, 0.09572852371318742, 0.14255225813811606, 0.06555322819490009, 0.9994418070534887, 0.9833629922619996, 0.015075140211563674, 0.9965774339812152, 0.9995217957834174, 0.9995392449778476, 0.9976664689502807, 0.977821437094171, 0.9951107374483067, 0.9749588192909383, 0.02383232669377849, 0.20042219263555122, 0.7994410450173202, 0.23512684891602548, 0.667104082971049, 0.09660250381821202, 0.9978050115257623, 0.9959231634972563, 0.9959554706579993, 0.99534886627135, 0.9984538774523096, 0.984612636661328, 0.9993640144319687, 0.9964921575483956, 0.9984843159417862, 0.0013989272377468108, 0.9860194198754711, 0.9996699136561132, 0.9188653362123466, 0.07932650384567021, 0.998075291388021, 0.9972726311158443, 0.9997093365767603, 0.996261846541483, 0.9968866241042347, 0.9968965606176942, 0.9968160456146302, 0.9896718835842261, 0.9980390635342762, 0.18387196359318406, 0.7736315063947266, 0.04107777910060495, 0.9994117821818095, 0.7459058150239419, 0.25351783743260864, 0.9050257227697056, 0.09415092044418265, 0.9978290147899286, 0.22893732968700609, 0.7689308138400531, 0.05347111927733737, 0.7590693942772532, 0.18687329314450896, 0.9984063000429774, 0.9767278436882584, 0.0015881753555906642, 0.021440367300473964, 0.705892032750987, 0.03531008851847851, 0.25832117389834275, 0.0003097376185831448, 0.9990490486316882, 0.9956980664618941, 0.999579517718936, 0.04297636524845954, 0.13074499850235577, 0.26754300619463545, 0.01694842573178686, 0.5411390215791947, 0.9232110367537156, 0.07658231228942075, 0.9983348242750065, 0.996398215144775, 0.9976430120366591, 0.9933785746207885, 0.08977149408754112, 0.386987927215211, 0.522858296645003, 0.9985885954883672, 0.9954541197258595, 0.9973331986254219, 0.8215078073666168, 0.17752922955804007, 0.996649435885861, 0.9957366948779262, 0.99959175381797, 0.9870911690608523, 0.9954839981608664, 0.9984207127693006, 0.9983037054799888, 0.9958766439359847, 0.9839885946314039, 0.9981061365345518, 0.15780461969389042, 0.06210784228916169, 0.7782492890927608, 0.0015843837318663698, 0.9989836820292476, 0.9664995653511936, 0.03328598453168573, 0.9995173278666426, 0.9978366255919723, 0.9070377112323975, 0.004385083765720033, 0.08871361772187451, 0.9982212627037077, 0.9986653314925759, 0.996169290576461, 0.9930395172171729, 0.9995508448734299, 0.9988795531462402, 0.9881003203804826, 0.996379575315955, 0.9967738848656128, 0.9989806194495593, 0.9966345997214553, 0.24375532763883126, 0.5495676308921357, 0.20629751352919434, 0.1186915589716507, 0.48795418688345293, 0.028259894993250167, 0.36486664424618553, 0.09217488459498571, 0.9076515106588593, 0.998425189877957, 0.9966709232916723, 0.9898290954925317, 0.012008566429686335, 0.9871041605202168, 0.9910934629189286, 0.6832442140442929, 0.16406496135028836, 0.15273152652016975, 0.9937950010962033, 0.9928204438657905, 0.9994286239987374, 0.9982004695540231, 0.08656457316456179, 0.00157390133026476, 0.9097149688930312, 0.5647214719799382, 0.4349300834426921, 0.995780492110241, 0.9997676959797858, 0.9987971858358703, 0.9975424065371694, 0.9993050769366755, 0.14285961439649156, 0.019108610842842818, 0.4058304969479951, 0.4176596369935645, 0.01455894159454691, 0.99270395294602, 0.9971116386876485, 0.9967028653850258, 0.9917439935831601, 0.810941823317816, 0.18891940995070602, 0.9972678425532705, 0.9993583294733822, 0.9992207755644227, 0.9976524523410888, 0.4899505808599519, 0.509126728838815, 0.002629113785792026, 0.9920522685055244, 0.00026965269597866934, 0.004988574875605382, 0.9978364592819841, 0.9975580369562913, 0.843021469617834, 0.15611508696626555, 0.9684345245323378, 0.03002897750487869, 0.48017525862385324, 0.5187385565962352, 0.9956513038733634, 0.9986501354684163, 0.997068582862293, 0.06165815415126749, 0.012331630830253498, 0.9248723122690123, 0.9994967401676086, 0.9970837754112718, 0.9972722832496499, 0.9978466245647385, 0.9966723939379987, 0.9984597287006846, 0.9689205581556541, 0.995082399446336, 0.9979225762901694, 0.9983969591871601, 0.9859542179066536, 0.3050640728601891, 0.6937073437642657, 0.997977569331491, 0.17522419871676906, 0.8246353648250909, 0.13883473912792518, 0.8602938748273745, 0.9381505029234067, 0.061481810422608925, 0.74729731443853, 0.09169112482134845, 0.15233030321757568, 0.008495343833287875, 0.9959110791097209, 0.5918672412833852, 0.4068321410063849, 0.9492586009444337, 0.05066147214447905, 0.9992474587664604, 0.9991247259529558, 0.932975447876376, 0.06613720093641608, 0.9930899801801666, 0.18404671088097918, 0.005769290626995902, 0.7953379221501494, 0.006213082213687895, 0.008622236541444426, 0.9984000381256728, 0.9852914822036452, 0.9970931427973628, 0.9978350851492557, 0.9780587653913458, 0.16666876904385075, 0.12240818307369952, 0.7109356621455543, 0.0386000775265827, 0.960021282999847, 0.994172824919479, 0.9989088279923447, 0.9868433133658645, 0.46076085133040345, 0.5380628926132084, 0.9937426269242501, 0.5845612744539466, 0.4153987140914027, 0.3297250047791071, 0.5157685174094377, 0.09040142515135785, 0.06376139165264853, 0.9900562352008381, 0.4773424862990965, 0.23767865952964462, 0.2829765665470636, 0.001804697490733824, 0.4635469702790065, 0.1850045987115022, 0.3510255165850704, 0.9960013244854679, 0.9981290650933687, 0.992162052605112, 0.9981572219095483, 0.9962831165519821, 0.9991796576867309, 0.9981958817287386, 0.9971488720454678, 0.9978250637340922, 0.9969956540108861, 0.9992546661382731, 0.6668408570942351, 0.332778618290049, 0.9974875091487089, 0.998006591253084, 0.9953045895655318, 0.9949720831965189, 0.12910828532080418, 0.03219966828144756, 0.8139704606915927, 0.02445936340609959, 0.9885999642032002, 0.999057976054286, 0.9809897503150034, 0.9975828331209292, 0.005818398676192317, 0.29285940003501326, 0.7008746072029995, 0.9959213928749351, 0.32532039064506774, 0.6728939676209056, 0.9995777508482147, 0.9988301458241624, 0.9748795431979824, 0.9881621364344381, 0.9981516499348065, 0.998336331078876, 0.10488946771868267, 0.12174670360204239, 0.7726233113206535, 0.999508637620888, 0.35188443287087157, 0.5520582120489123, 0.0957556440746417, 0.9963291677812188, 0.6954419188955729, 0.009831078140502875, 0.09831078140502876, 0.19619412463003563, 0.10569131440820624, 0.3896277168117702, 0.020231340711801854, 0.4607862255222457, 0.023370686684322833, 0.9995489488336943, 0.9997421189298853, 0.9973605117115781, 0.9999256248726414, 0.2652110468271367, 0.7342524178532955, 0.9975018091040666, 0.8826356586316392, 0.05004406895402671, 0.0651015764269197, 0.0017714714673991755, 0.9962199330563234, 0.9713296539090691, 0.027802980349406974, 0.9991986671788662, 0.9975578032968722, 0.9825524327716144, 0.9971960854517777, 0.5951639328060747, 0.19761753885405586, 0.19328382089673007, 0.01357898293295413, 0.9966795568274729, 0.918338728998648, 0.08135152841841058, 0.9964246285705166, 0.9995542479455648, 0.12853987420877364, 0.004805228942384061, 0.862538595157939, 0.0024026144711920307, 0.9984523929025336, 0.18143418256065713, 0.6740624377411756, 0.11483176111433996, 0.029528167143687417, 0.09625986929928501, 0.8065410260985547, 0.09625986929928501, 0.9971539593785386, 0.9997315014194361, 0.9976699836077704, 0.9954609723407646, 0.9849701422180656, 0.6263358682169464, 0.11572389909451376, 0.25735264270588937, 0.0005262835229159292, 0.996811751399059, 0.9997034172034718, 0.9937574722507083, 0.9991502076491956, 0.004674088644934109, 0.9944123592097316, 0.658344943422496, 0.341490382281905, 0.9982454403635033, 0.9973875840275698, 0.9968872802227933, 0.9983311700431805, 0.9997798142110953, 0.9980800724788282, 0.9998009215392147, 0.541283312232401, 0.0019769295552680825, 0.45627534135587344, 0.9882134253043777, 0.9976986363266955, 0.9940763899477496, 0.999480149952854, 0.9790382440659483, 0.020334634248583526, 0.6542113478393562, 0.23474557921812098, 0.11083211364186851, 0.9977739994119167, 0.9967559677119279, 0.9887751961195037, 0.5138634652773046, 0.0019055505510901286, 0.47956355535768236, 0.003811101102180257, 0.9193986883606423, 0.079830715379607, 0.9878244210895409], \"Term\": [\"access\", \"access\", \"address\", \"agent\", \"agent\", \"agent\", \"also\", \"also\", \"also\", \"also\", \"amount\", \"android\", \"ant\", \"apache\", \"app\", \"app\", \"app\", \"app\", \"application\", \"application\", \"application\", \"archive\", \"arg\", \"article\", \"artifact\", \"artifactid\", \"asp_net\", \"assembly\", \"assemblyname\", \"authentication\", \"automate\", \"automatic\", \"automatically\", \"azure\", \"back\", \"backup\", \"bamboo\", \"basic\", \"bat\", \"best_practice\", \"big\", \"bin\", \"binary\", \"bit\", \"boolean\", \"branch\", \"break\", \"browser\", \"browser\", \"bug\", \"build\", \"builder\", \"building\", \"building\", \"button\", \"cache\", \"call\", \"call\", \"call\", \"call\", \"call\", \"cargo\", \"case\", \"case\", \"ccnet\", \"change\", \"check\", \"check\", \"check\", \"check\", \"checkout\", \"checkout\", \"checkstyle\", \"checksum\", \"child\", \"choice\", \"ci\", \"ci\", \"ci\", \"ci\", \"class\", \"class\", \"click\", \"clone\", \"code\", \"code\", \"code\", \"code\", \"codebase\", \"com\", \"com\", \"com\", \"combination\", \"come\", \"come\", \"command\", \"command\", \"command\", \"command\", \"commit\", \"company\", \"compilation\", \"compile\", \"compile\", \"compile\", \"component\", \"computer\", \"concurrent\", \"config\", \"config\", \"configuration\", \"configuration\", \"configuration\", \"consider\", \"container\", \"continue\", \"continuous_integration\", \"control\", \"copy\", \"copy\", \"copy\", \"copy\", \"core\", \"country\", \"coverage\", \"create\", \"create\", \"create\", \"create\", \"critical\", \"cruisecontrol\", \"csproj\", \"currently\", \"cycle\", \"d\", \"dashboard\", \"database\", \"date\", \"datum\", \"datum\", \"debug\", \"decide\", \"delete\", \"delete\", \"depend\", \"dependency\", \"dependency\", \"deploy\", \"deploy\", \"deployment\", \"desktop\", \"detect\", \"detect\", \"dev\", \"dev\", \"dev\", \"developer\", \"developer\", \"development\", \"different\", \"dir\", \"directory\", \"directory\", \"directory\", \"display\", \"distribute\", \"dll\", \"do\", \"do\", \"do\", \"do\", \"docker\", \"document\", \"domain\", \"drive\", \"duplicate\", \"easily\", \"easily\", \"easy\", \"eclipse\", \"edit\", \"edit\", \"email\", \"environment\", \"environment\", \"environment\", \"environment\", \"error\", \"error\", \"evaluate\", \"evidence\", \"exception\", \"exception\", \"exclude\", \"exe\", \"exec\", \"exec\", \"execute\", \"execute\", \"execute\", \"exist\", \"exist\", \"exist\", \"exist\", \"exit\", \"fail\", \"fail\", \"fail\", \"failure\", \"failure\", \"failure\", \"false\", \"false\", \"feature\", \"feel\", \"file\", \"file\", \"file\", \"file\", \"find\", \"find\", \"find\", \"findbug\", \"finish\", \"finish\", \"folder\", \"folder\", \"follow\", \"follow\", \"follow\", \"follow\", \"foo\", \"framework\", \"free\", \"function\", \"functional\", \"fxcop\", \"gem\", \"generate\", \"generate\", \"generate\", \"generate\", \"get\", \"get\", \"get\", \"get\", \"goal\", \"goal\", \"goal\", \"good\", \"gradle\", \"great\", \"great\", \"great\", \"group\", \"hand\", \"hard\", \"hear\", \"history\", \"home\", \"host\", \"host\", \"host\", \"hour\", \"http\", \"http\", \"hudson\", \"ide\", \"iis\", \"image\", \"import\", \"include\", \"include\", \"include\", \"include\", \"include\", \"info\", \"information\", \"information\", \"initial\", \"instal\", \"install\", \"installation\", \"instrumentation\", \"int\", \"integrate\", \"integrate\", \"integration\", \"integration\", \"internal\", \"internal\", \"internal\", \"involve\", \"iphone\", \"itemgroup\", \"ivy\", \"jar\", \"jasmine\", \"java\", \"javascript\", \"jenkin\", \"jenkin\", \"jetbrain\", \"job\", \"junit\", \"junit\", \"key\", \"kind\", \"know\", \"label\", \"language\", \"large\", \"launch\", \"launcher\", \"level\", \"library\", \"library\", \"library\", \"like\", \"line\", \"line\", \"linux\", \"linux\", \"little\", \"load\", \"load\", \"local\", \"local\", \"local\", \"location\", \"log\", \"log\", \"log\", \"look\", \"look\", \"look\", \"look\", \"lot\", \"low\", \"machine\", \"main\", \"main\", \"main\", \"main\", \"main\", \"make\", \"make\", \"management\", \"mapping\", \"maven\", \"mbunit\", \"method\", \"method\", \"method\", \"migration\", \"mode\", \"model\", \"module\", \"module\", \"monitor\", \"mostly\", \"msbuild\", \"msdeploy\", \"mst\", \"much\", \"multiple\", \"mvn\", \"mycompany\", \"myproject\", \"name\", \"name\", \"name\", \"name\", \"nant\", \"need\", \"need\", \"net\", \"network\", \"new\", \"new\", \"new\", \"next\", \"nice\", \"notification\", \"nuget\", \"number\", \"nunit\", \"obfuscate\", \"offer\", \"operation\", \"org\", \"other\", \"output\", \"output\", \"output\", \"package\", \"package\", \"package\", \"package\", \"page\", \"page\", \"parameter\", \"parent\", \"parser\", \"pass\", \"pass\", \"patch\", \"path\", \"path\", \"path\", \"perfectly\", \"phe\", \"php\", \"phpunit\", \"place\", \"place\", \"place\", \"platform\", \"platform\", \"play\", \"plugin\", \"point\", \"pom\", \"possible\", \"post\", \"post\", \"post\", \"post\", \"post\", \"powershell\", \"practice\", \"pretty\", \"pro\", \"process\", \"process\", \"produce\", \"product\", \"production\", \"profile\", \"program\", \"program\", \"project\", \"project\", \"project\", \"project\", \"promote\", \"properly\", \"property\", \"property\", \"provide\", \"provide\", \"publish\", \"publish\", \"publisher\", \"qa\", \"quality\", \"query\", \"query\", \"query\", \"question\", \"queue\", \"quite\", \"rail\", \"rake\", \"rather\", \"rc\", \"ready\", \"real\", \"really\", \"redirect\", \"reference\", \"reference\", \"regard\", \"release\", \"release\", \"remote\", \"remote\", \"report\", \"report\", \"repository\", \"repository\", \"repository\", \"repository\", \"requirement\", \"resource\", \"resource\", \"result\", \"result\", \"revision\", \"right\", \"root\", \"root\", \"ruby\", \"run\", \"run\", \"run\", \"run\", \"run\", \"runner\", \"scan\", \"scenario\", \"schema\", \"scope\", \"script\", \"script\", \"script\", \"second\", \"second\", \"security\", \"selenium\", \"seleniumserver\", \"send\", \"send\", \"serve\", \"server\", \"server\", \"service\", \"service\", \"service\", \"service\", \"session\", \"set\", \"set\", \"set\", \"set\", \"setup\", \"setup\", \"setup\", \"shop\", \"sign\", \"silverlight\", \"simple\", \"simply\", \"site\", \"slave\", \"sln\", \"small\", \"snapshot\", \"software\", \"solution\", \"solution\", \"somewhere\", \"sonar\", \"soon\", \"sort\", \"source\", \"source\", \"source\", \"source\", \"sourcecontrol\", \"sql\", \"stacktrace\", \"stage\", \"start\", \"start\", \"start\", \"static\", \"status\", \"status\", \"step\", \"string\", \"studio\", \"subdirectory\", \"suggest\", \"suite\", \"support\", \"support\", \"support\", \"svn\", \"system\", \"system\", \"system\", \"table\", \"target\", \"target\", \"target\", \"target\", \"task\", \"task\", \"task\", \"task\", \"task\", \"team\", \"teamcity\", \"template\", \"test\", \"testing\", \"testing\", \"text\", \"thank\", \"thank\", \"thank\", \"thank\", \"therefore\", \"thing\", \"thing\", \"think\", \"thinking\", \"thoughtworks_cruisecontrol\", \"thread\", \"time\", \"time\", \"time\", \"time\", \"tomcat\", \"tool\", \"tool\", \"transfer\", \"trigger\", \"true\", \"true\", \"true\", \"true\", \"trunk\", \"try\", \"try\", \"try\", \"try\", \"type\", \"type\", \"type\", \"unable\", \"unit\", \"unittest\", \"unknown_source\", \"updating_source\", \"use\", \"use\", \"use\", \"use\", \"useful\", \"user\", \"util\", \"value\", \"variable\", \"variable\", \"version\", \"version\", \"view\", \"virtual\", \"visual_studio\", \"wait\", \"want\", \"war\", \"way\", \"web\", \"web\", \"web\", \"webapp\", \"website\", \"week\", \"well\", \"window\", \"window\", \"work\", \"work\", \"work\", \"working\", \"works_fine\", \"workstation\", \"write\", \"write\", \"write\", \"write\", \"xml\", \"xml\", \"xunit\"]}, \"R\": 30, \"lambda.step\": 0.01, \"plot.opts\": {\"xlab\": \"PC1\", \"ylab\": \"PC2\"}, \"topic.order\": [5, 1, 7, 2, 8, 6, 4, 3, 10, 9]};\n",
       "\n",
       "function LDAvis_load_lib(url, callback){\n",
       "  var s = document.createElement('script');\n",
       "  s.src = url;\n",
       "  s.async = true;\n",
       "  s.onreadystatechange = s.onload = callback;\n",
       "  s.onerror = function(){console.warn(\"failed to load library \" + url);};\n",
       "  document.getElementsByTagName(\"head\")[0].appendChild(s);\n",
       "}\n",
       "\n",
       "if(typeof(LDAvis) !== \"undefined\"){\n",
       "   // already loaded: just create the visualization\n",
       "   !function(LDAvis){\n",
       "       new LDAvis(\"#\" + \"ldavis_el2126827863250606804214577642\", ldavis_el2126827863250606804214577642_data);\n",
       "   }(LDAvis);\n",
       "}else if(typeof define === \"function\" && define.amd){\n",
       "   // require.js is available: use it to load d3/LDAvis\n",
       "   require.config({paths: {d3: \"https://d3js.org/d3.v5\"}});\n",
       "   require([\"d3\"], function(d3){\n",
       "      window.d3 = d3;\n",
       "      LDAvis_load_lib(\"https://cdn.jsdelivr.net/gh/bmabey/pyLDAvis@3.3.1/pyLDAvis/js/ldavis.v3.0.0.js\", function(){\n",
       "        new LDAvis(\"#\" + \"ldavis_el2126827863250606804214577642\", ldavis_el2126827863250606804214577642_data);\n",
       "      });\n",
       "    });\n",
       "}else{\n",
       "    // require.js not available: dynamically load d3 & LDAvis\n",
       "    LDAvis_load_lib(\"https://d3js.org/d3.v5.js\", function(){\n",
       "         LDAvis_load_lib(\"https://cdn.jsdelivr.net/gh/bmabey/pyLDAvis@3.3.1/pyLDAvis/js/ldavis.v3.0.0.js\", function(){\n",
       "                 new LDAvis(\"#\" + \"ldavis_el2126827863250606804214577642\", ldavis_el2126827863250606804214577642_data);\n",
       "            })\n",
       "         });\n",
       "}\n",
       "</script>"
      ],
      "text/plain": [
       "PreparedData(topic_coordinates=              x         y  topics  cluster       Freq\n",
       "topic                                                \n",
       "4     -0.287068  0.058543       1        1  27.808494\n",
       "0     -0.225151 -0.022725       2        1  17.691320\n",
       "6     -0.220111  0.080767       3        1  16.974923\n",
       "1     -0.111561 -0.106727       4        1  11.428568\n",
       "7      0.117022 -0.129855       5        1   6.712593\n",
       "5      0.159297  0.267094       6        1   6.439569\n",
       "3      0.054311 -0.174790       7        1   5.349011\n",
       "2      0.157251  0.253298       8        1   3.152398\n",
       "9      0.174048 -0.116500       9        1   2.907050\n",
       "8      0.181961 -0.109105      10        1   1.536073, topic_info=        Term          Freq         Total Category  logprob  loglift\n",
       "132    build  31710.000000  31710.000000  Default  30.0000  30.0000\n",
       "21      test  19466.000000  19466.000000  Default  29.0000  29.0000\n",
       "179     file  12177.000000  12177.000000  Default  28.0000  28.0000\n",
       "173  project  14833.000000  14833.000000  Default  27.0000  27.0000\n",
       "20       run  15773.000000  15773.000000  Default  26.0000  26.0000\n",
       "..       ...           ...           ...      ...      ...      ...\n",
       "728     tool    304.545637   3749.161275  Topic10  -3.9146   1.6655\n",
       "752    linux     80.042808    849.699606  Topic10  -5.2509   1.8136\n",
       "256     root     74.920160   1134.006262  Topic10  -5.3170   1.4589\n",
       "410      com     67.972639   2407.001240  Topic10  -5.4144   0.6089\n",
       "479     task     67.386098   2866.839169  Topic10  -5.4230   0.4254\n",
       "\n",
       "[494 rows x 6 columns], token_table=      Topic      Freq     Term\n",
       "term                          \n",
       "363       1  0.128383   access\n",
       "363       2  0.871071   access\n",
       "511       4  0.993389  address\n",
       "626       2  0.936360    agent\n",
       "626       4  0.034037    agent\n",
       "...     ...       ...      ...\n",
       "162       4  0.479564    write\n",
       "162       6  0.003811    write\n",
       "336       6  0.919399      xml\n",
       "336       7  0.079831      xml\n",
       "1702      8  0.987824    xunit\n",
       "\n",
       "[667 rows x 3 columns], R=30, lambda_step=0.01, plot_opts={'xlab': 'PC1', 'ylab': 'PC2'}, topic_order=[5, 1, 7, 2, 8, 6, 4, 3, 10, 9])"
      ]
     },
     "execution_count": 22,
     "metadata": {},
     "output_type": "execute_result"
    }
   ],
   "source": [
    "# Visualize the topics\n",
    "pyLDAvis.enable_notebook()\n",
    "vis = pyLDAvis.gensim_models.prepare(lda_model, corpus, id2word)\n",
    "vis"
   ]
  },
  {
   "cell_type": "code",
   "execution_count": null,
   "metadata": {},
   "outputs": [],
   "source": []
  },
  {
   "cell_type": "code",
   "execution_count": null,
   "metadata": {},
   "outputs": [],
   "source": []
  },
  {
   "cell_type": "code",
   "execution_count": 29,
   "metadata": {},
   "outputs": [],
   "source": [
    "from gensim.models.coherencemodel import CoherenceModel\n",
    "\n",
    "def compute_coherence_values(dictionary, corpus, texts, limit, start=2, step=6):\n",
    "    \"\"\"\n",
    "    Compute c_v coherence for various number of topics\n",
    "\n",
    "    Parameters:\n",
    "    ----------\n",
    "    dictionary : Gensim dictionary\n",
    "    corpus : Gensim corpus\n",
    "    texts : List of input texts\n",
    "    limit : Max num of topics\n",
    "\n",
    "    Returns:\n",
    "    -------\n",
    "    model_list : List of LDA topic models\n",
    "    coherence_values : Coherence values corresponding to the LDA model with respective number of topics\n",
    "    \"\"\"\n",
    "    coherence_values = []\n",
    "    model_list = []\n",
    "    for num_topics in range(start, limit, step):\n",
    "        model = gensim.models.ldamulticore.LdaMulticore(workers=4, corpus=corpus, num_topics=num_topics, id2word=id2word)\n",
    "        model_list.append(model)\n",
    "        coherencemodel = CoherenceModel(model=model, texts=texts, dictionary=dictionary, coherence='c_v')\n",
    "        coherence_values.append(coherencemodel.get_coherence())\n",
    "\n",
    "    return model_list, coherence_values"
   ]
  },
  {
   "cell_type": "code",
   "execution_count": 36,
   "metadata": {},
   "outputs": [
    {
     "name": "stderr",
     "output_type": "stream",
     "text": [
      "C:\\Users\\11shr\\Anaconda3\\lib\\site-packages\\gensim\\topic_coherence\\direct_confirmation_measure.py:202: RuntimeWarning: invalid value encountered in true_divide\n",
      "  numerator = (co_occur_count / num_docs) + EPSILON\n",
      "C:\\Users\\11shr\\Anaconda3\\lib\\site-packages\\gensim\\topic_coherence\\direct_confirmation_measure.py:203: RuntimeWarning: invalid value encountered in true_divide\n",
      "  denominator = (w_prime_count / num_docs) * (w_star_count / num_docs)\n",
      "C:\\Users\\11shr\\Anaconda3\\lib\\site-packages\\gensim\\topic_coherence\\direct_confirmation_measure.py:198: RuntimeWarning: invalid value encountered in true_divide\n",
      "  co_doc_prob = co_occur_count / num_docs\n"
     ]
    }
   ],
   "source": [
    "\n",
    "\n",
    "# Can take a long time to run.\n",
    "model_list, coherence_values = compute_coherence_values(dictionary=id2word, corpus=corpus, texts=data, start=2, limit=50, step=6)\n",
    "\n",
    "\n"
   ]
  },
  {
   "cell_type": "code",
   "execution_count": 33,
   "metadata": {},
   "outputs": [
    {
     "name": "stdout",
     "output_type": "stream",
     "text": [
      "[nan, nan, nan, nan, nan, nan, nan, nan]\n"
     ]
    }
   ],
   "source": [
    "print(coherence_values)"
   ]
  },
  {
   "cell_type": "code",
   "execution_count": 34,
   "metadata": {},
   "outputs": [
    {
     "data": {
      "image/png": "[encoded data removed]",
      "text/plain": [
       "<Figure size 432x288 with 1 Axes>"
      ]
     },
     "metadata": {
      "needs_background": "light"
     },
     "output_type": "display_data"
    }
   ],
   "source": [
    "from matplotlib import pyplot as plt\n",
    "# Show graph\n",
    "limit=50; start=2; step=6;\n",
    "x = range(start, limit, step)\n",
    "plt.plot(x, coherence_values)\n",
    "plt.xlabel(\"Num Topics\")\n",
    "plt.ylabel(\"Coherence score\")\n",
    "plt.legend((\"coherence_values\"), loc='best')\n",
    "plt.show()"
   ]
  },
  {
   "cell_type": "code",
   "execution_count": 35,
   "metadata": {},
   "outputs": [
    {
     "name": "stdout",
     "output_type": "stream",
     "text": [
      "Num Topics = 2  has Coherence Value of nan\n",
      "Num Topics = 8  has Coherence Value of nan\n",
      "Num Topics = 14  has Coherence Value of nan\n",
      "Num Topics = 20  has Coherence Value of nan\n",
      "Num Topics = 26  has Coherence Value of nan\n",
      "Num Topics = 32  has Coherence Value of nan\n",
      "Num Topics = 38  has Coherence Value of nan\n",
      "Num Topics = 44  has Coherence Value of nan\n"
     ]
    }
   ],
   "source": [
    "# Print the coherence scores\n",
    "for m, cv in zip(x, coherence_values):\n",
    "    print(\"Num Topics =\", m, \" has Coherence Value of\", round(cv, 4))"
   ]
  }
 ],
 "metadata": {
  "kernelspec": {
   "display_name": "Python 3",
   "language": "python",
   "name": "python3"
  },
  "language_info": {
   "codemirror_mode": {
    "name": "ipython",
    "version": 3
   },
   "file_extension": ".py",
   "mimetype": "text/x-python",
   "name": "python",
   "nbconvert_exporter": "python",
   "pygments_lexer": "ipython3",
   "version": "3.7.7"
  }
 },
 "nbformat": 4,
 "nbformat_minor": 4
}
